{
  "cells": [
    {
      "cell_type": "code",
      "execution_count": null,
      "metadata": {
        "id": "TJem_sS9FqbP"
      },
      "outputs": [],
      "source": [
        "from google.colab import drive\n",
        "drive.mount('/content/drive')"
      ]
    },
    {
      "cell_type": "code",
      "execution_count": null,
      "metadata": {
        "colab": {
          "base_uri": "https://localhost:8080/",
          "height": 418
        },
        "id": "2k_IUAtTcIhj",
        "outputId": "cdfdb1cb-3ad6-4b32-f548-537846cee485"
      },
      "outputs": [
        {
          "name": "stdout",
          "output_type": "stream",
          "text": [
            "Collecting anvil-uplink\n",
            "  Downloading anvil_uplink-0.3.42-py2.py3-none-any.whl (64 kB)\n",
            "\u001b[K     |████████████████████████████████| 64 kB 2.3 MB/s \n",
            "\u001b[?25hCollecting argparse\n",
            "  Downloading argparse-1.4.0-py2.py3-none-any.whl (23 kB)\n",
            "Requirement already satisfied: six in /usr/local/lib/python3.7/dist-packages (from anvil-uplink) (1.15.0)\n",
            "Requirement already satisfied: future in /usr/local/lib/python3.7/dist-packages (from anvil-uplink) (0.16.0)\n",
            "Collecting ws4py\n",
            "  Downloading ws4py-0.5.1.tar.gz (51 kB)\n",
            "\u001b[K     |████████████████████████████████| 51 kB 186 kB/s \n",
            "\u001b[?25hBuilding wheels for collected packages: ws4py\n",
            "  Building wheel for ws4py (setup.py) ... \u001b[?25l\u001b[?25hdone\n",
            "  Created wheel for ws4py: filename=ws4py-0.5.1-py3-none-any.whl size=45229 sha256=b68b43923a3a13eb96adb4edc07322e1e60cb65bad5207a05bf4149c61137e85\n",
            "  Stored in directory: /root/.cache/pip/wheels/29/ea/7d/3410aa0aa0e4402ead9a7a97ab2214804887e0f5c2b76f0c96\n",
            "Successfully built ws4py\n",
            "Installing collected packages: ws4py, argparse, anvil-uplink\n",
            "Successfully installed anvil-uplink-0.3.42 argparse-1.4.0 ws4py-0.5.1\n"
          ]
        },
        {
          "data": {
            "application/vnd.colab-display-data+json": {
              "pip_warning": {
                "packages": [
                  "argparse",
                  "google"
                ]
              }
            }
          },
          "metadata": {},
          "output_type": "display_data"
        }
      ],
      "source": [
        "!pip install anvil-uplink"
      ]
    },
    {
      "cell_type": "code",
      "execution_count": null,
      "metadata": {
        "colab": {
          "background_save": true
        },
        "id": "QZcN-Th7gwpI"
      },
      "outputs": [],
      "source": [
        "uplink_key = \"server_ADKLTUCFGN3IHEVSRW6P3KPZ-KU6UZX5W6LMFGNKI\""
      ]
    },
    {
      "cell_type": "code",
      "execution_count": null,
      "metadata": {
        "colab": {
          "background_save": true,
          "base_uri": "https://localhost:8080/"
        },
        "id": "TELB_6decTKo",
        "outputId": "c62f3799-3ed1-4ed4-a138-b4822b9eacf6"
      },
      "outputs": [
        {
          "name": "stdout",
          "output_type": "stream",
          "text": [
            "Connecting to wss://anvil.works/uplink\n",
            "Anvil websocket open\n",
            "Connected to \"Published\" as SERVER\n"
          ]
        }
      ],
      "source": [
        "import anvil.server\n",
        "\n",
        "anvil.server.connect(uplink_key)"
      ]
    },
    {
      "cell_type": "code",
      "execution_count": null,
      "metadata": {
        "colab": {
          "base_uri": "https://localhost:8080/"
        },
        "id": "JEWaUJru6R_U",
        "outputId": "d46835c8-c94d-4273-9183-aca9ce9cf17a"
      },
      "outputs": [
        {
          "name": "stdout",
          "output_type": "stream",
          "text": [
            "Collecting text2emotion\n",
            "  Downloading text2emotion-0.0.5-py3-none-any.whl (57 kB)\n",
            "\u001b[?25l\r\u001b[K     |█████▊                          | 10 kB 22.9 MB/s eta 0:00:01\r\u001b[K     |███████████▍                    | 20 kB 27.6 MB/s eta 0:00:01\r\u001b[K     |█████████████████               | 30 kB 23.8 MB/s eta 0:00:01\r\u001b[K     |██████████████████████▊         | 40 kB 19.9 MB/s eta 0:00:01\r\u001b[K     |████████████████████████████▍   | 51 kB 11.4 MB/s eta 0:00:01\r\u001b[K     |████████████████████████████████| 57 kB 4.3 MB/s \n",
            "\u001b[?25hCollecting emoji>=0.6.0\n",
            "  Downloading emoji-1.7.0.tar.gz (175 kB)\n",
            "\u001b[K     |████████████████████████████████| 175 kB 19.4 MB/s \n",
            "\u001b[?25hRequirement already satisfied: nltk in /usr/local/lib/python3.7/dist-packages (from text2emotion) (3.2.5)\n",
            "Requirement already satisfied: six in /usr/local/lib/python3.7/dist-packages (from nltk->text2emotion) (1.15.0)\n",
            "Building wheels for collected packages: emoji\n",
            "  Building wheel for emoji (setup.py) ... \u001b[?25l\u001b[?25hdone\n",
            "  Created wheel for emoji: filename=emoji-1.7.0-py3-none-any.whl size=171046 sha256=9d3f596a5ce1c6553f18f3de878373e9abdbae4de18c38ea23b048fe322f2d84\n",
            "  Stored in directory: /root/.cache/pip/wheels/8a/4e/b6/57b01db010d17ef6ea9b40300af725ef3e210cb1acfb7ac8b6\n",
            "Successfully built emoji\n",
            "Installing collected packages: emoji, text2emotion\n",
            "Successfully installed emoji-1.7.0 text2emotion-0.0.5\n"
          ]
        }
      ],
      "source": [
        "!pip install text2emotion"
      ]
    },
    {
      "cell_type": "code",
      "execution_count": null,
      "metadata": {
        "colab": {
          "base_uri": "https://localhost:8080/"
        },
        "id": "eZUoGYAazgse",
        "outputId": "53e1bd23-8792-4659-889f-34e122d70e38"
      },
      "outputs": [
        {
          "name": "stdout",
          "output_type": "stream",
          "text": [
            "[nltk_data] Downloading package stopwords to /root/nltk_data...\n",
            "[nltk_data]   Unzipping corpora/stopwords.zip.\n",
            "[nltk_data] Downloading package punkt to /root/nltk_data...\n",
            "[nltk_data]   Unzipping tokenizers/punkt.zip.\n",
            "[nltk_data] Downloading package wordnet to /root/nltk_data...\n",
            "[nltk_data]   Unzipping corpora/wordnet.zip.\n"
          ]
        }
      ],
      "source": [
        "from pydoc import doc\n",
        "import re \n",
        "from collections import Counter\n",
        "from sklearn.model_selection import train_test_split\n",
        "from sklearn.metrics import accuracy_score\n",
        "from sklearn.ensemble import RandomForestClassifier\n",
        "from sklearn.svm import SVC\n",
        "import text2emotion as te"
      ]
    },
    {
      "cell_type": "code",
      "execution_count": null,
      "metadata": {
        "colab": {
          "base_uri": "https://localhost:8080/"
        },
        "id": "xtAwRcgq0oir",
        "outputId": "5a1c7bfe-156a-4050-8ebb-0597482a7fe6"
      },
      "outputs": [
        {
          "name": "stdout",
          "output_type": "stream",
          "text": [
            "[nltk_data] Downloading package punkt to /root/nltk_data...\n",
            "[nltk_data]   Package punkt is already up-to-date!\n",
            "[nltk_data] Downloading package wordnet to /root/nltk_data...\n",
            "[nltk_data]   Package wordnet is already up-to-date!\n"
          ]
        }
      ],
      "source": [
        "import nltk\n",
        "nltk.download('punkt')\n",
        "nltk.download('wordnet')\n",
        "from nltk.stem import WordNetLemmatizer\n",
        "lemmatizer = WordNetLemmatizer()\n",
        "import json\n",
        "import pickle\n",
        "from keras.models import Sequential\n",
        "from keras.layers import Dense, Activation, Dropout\n",
        "from tensorflow.keras.optimizers import SGD\n",
        "import random"
      ]
    },
    {
      "cell_type": "code",
      "execution_count": null,
      "metadata": {
        "id": "O6kGcc4Qz58h"
      },
      "outputs": [],
      "source": [
        "# pip install tensorflow keras pickle nltk\n",
        "from google.colab import drive\n",
        "import numpy as np\n",
        "from keras.models import Sequential\n",
        "from keras.layers import Dense, Activation, Dropout\n",
        "# from keras.optimizers import SGD\n",
        "from tensorflow.keras.optimizers import SGD\n",
        "import random\n",
        "import nltk\n",
        "from nltk.stem import WordNetLemmatizer\n",
        "lemmatizer = WordNetLemmatizer()\n",
        "import json\n",
        "import pickle\n",
        "intents_file = open('/content/drive/MyDrive/Colab Notebooks/intents.json').read()\n",
        "intents = json.loads(intents_file)"
      ]
    },
    {
      "cell_type": "code",
      "execution_count": null,
      "metadata": {
        "colab": {
          "base_uri": "https://localhost:8080/"
        },
        "id": "MOlYh5OC1FE-",
        "outputId": "b26145cc-c31a-4b6a-8eb3-d8406a715950"
      },
      "outputs": [
        {
          "name": "stdout",
          "output_type": "stream",
          "text": [
            "[nltk_data] Downloading package punkt to /root/nltk_data...\n",
            "[nltk_data]   Package punkt is already up-to-date!\n",
            "[(['hi'], 'greeting'), (['hello'], 'greeting'), (['hai'], 'greeting'), (['helloo'], 'greeting'), (['hlo'], 'greeting'), (['hloii'], 'greeting'), (['whats', 'up'], 'greeting'), (['sup'], 'greeting'), (['is', 'anyone', 'there'], 'greeting'), (['hey'], 'greeting'), (['bye'], 'goodbye'), (['cya'], 'goodbye'), (['see', 'you', 'later'], 'goodbye'), (['goodbye'], 'goodbye'), (['im', 'leaving'], 'goodbye'), (['have', 'a', 'good', 'day'], 'goodbye'), (['how', 'old', 'are', 'you'], 'age'), (['what', 'is', 'your', 'age'], 'age'), (['thanks'], 'thanks'), (['thank', 'you'], 'thanks'), (['thankyou'], 'thanks'), (['ty'], 'thanks'), (['I', 'owe', 'you', 'one'], 'thanks'), (['whats', 'is', 'your', 'name'], 'name'), (['whats', 'your', 'name'], 'name'), (['whats', 'should', 'I', 'call', 'you'], 'name'), (['how', 'should', 'I', 'address', 'you'], 'name'), (['Yes', 'it', 'does'], 'sky_net_yes'), (['Yeah'], 'sky_net_yes'), (['Haha', 'yep'], 'sky_net_yes'), (['yes'], 'sky_net_yes'), (['Indeed'], 'sky_net_yes'), (['Yup'], 'sky_net_yes'), (['no'], 'sky_net_no'), (['nah'], 'sky_net_no'), (['not', 'really'], 'sky_net_no'), (['nope'], 'sky_net_no'), (['how', 'are', 'you'], 'how_are_you'), (['how', 'are', 'you', 'doing'], 'how_are_you'), (['what', 'is', 'going', 'on'], 'how_are_you'), (['are', 'you', 'good'], 'how_are_you'), (['u', 'good'], 'how_are_you'), (['are', 'u', 'good'], 'how_are_you'), (['are', 'you', 'okay'], 'how_are_you'), (['I', 'am', 'doing', 'great'], 'doing_great'), (['it', 'was', 'a', 'good', 'day'], 'doing_great'), (['I', 'am', 'well'], 'doing_great'), (['Im', 'great'], 'doing_great'), (['awesome'], 'doing_great'), (['happy'], 'doing_great'), (['better'], 'doing_great'), (['fyn'], 'doing_great'), (['fine'], 'doing_great'), (['good', 'day'], 'doing_great'), (['glad', 'to', 'meet', 'you'], 'doing_great'), (['it', 'was', 'so', 'good'], 'doing_great'), (['not', 'great'], 'doing_badly'), (['not', 'well'], 'doing_badly'), (['not', 'good'], 'doing_badly'), (['bad'], 'doing_badly'), (['badly'], 'doing_badly'), (['terrible'], 'doing_badly'), (['horrible'], 'doing_badly'), (['awful'], 'doing_badly'), (['sad'], 'doing_badly'), (['it', 'was', 'so', 'bad'], 'doing_badly'), (['bad', 'day'], 'doing_badly'), (['im', 'so', 'sad'], 'doing_badly'), (['wait', 'you', 'watch', 'Netflix'], 'netflix'), (['how', 'do', 'you', 'watch', 'Netflix'], 'netflix'), (['Netflix'], 'netflix'), (['how', 'can', 'you', 'run'], 'quick_run'), (['how', 'do', 'you', 'run'], 'quick_run'), (['how', 'run'], 'quick_run'), (['why', 'run'], 'quick_run'), (['run'], 'quick_run'), (['you', 'real'], 'real_bot'), (['you', 'human'], 'real_bot'), (['you', 'robot'], 'real_bot'), (['you', 'alive'], 'real_bot'), (['you', 'sentient'], 'real_bot'), (['you', 'conscious'], 'real_bot'), (['tell', 'me', 'joke'], 'joke'), (['got', 'any', 'good', 'jokes'], 'joke'), (['got', 'jokes'], 'joke'), (['can', 'you', 'tell', 'joke'], 'joke'), (['tell', 'joke'], 'joke'), (['haha'], 'good_joke'), (['that', 'was', 'funny'], 'good_joke'), (['very', 'funny'], 'good_joke'), (['good', 'one'], 'good_joke'), (['bad', 'joke'], 'bad_joke'), (['trash', 'joke'], 'bad_joke'), (['terrible'], 'bad_joke'), (['not', 'funny'], 'bad_joke'), (['I', 'hate', 'you'], 'hate'), (['you', 'stupid'], 'hate'), (['you', 'dumb'], 'hate'), (['you', 'mean'], 'hate'), (['i', 'do', \"n't\", 'like', 'you'], 'hate'), (['you', 'my', 'friend'], 'like'), (['I', 'like', 'you'], 'like'), (['I', 'love', 'you'], 'like'), (['you', 'cool'], 'like'), (['you', 'are', 'chill'], 'like'), (['it', 'is', 'nice', 'chatting', 'with', 'you'], 'like'), (['whats', 'favorite', 'show'], 'favorite_show'), (['favorite', 'tv', 'show'], 'favorite_show'), (['Whats', 'favorite', 'movie'], 'favorite_movie'), (['whats', 'favorite', 'film'], 'favorite_movie'), (['best', 'movie'], 'favorite_movie'), (['your', 'favorite', 'movie'], 'favorite_movie'), (['whats', 'your', 'favorite', 'movie'], 'favorite_movie'), (['What', 'think', 'about'], 'your_thoughts'), (['What', 'your', 'thoughts'], 'your_thoughts'), (['i', 'am', 'so', 'scared'], 'fear'), (['that', \"'s\", 'scary'], 'fear'), (['aaaaa'], 'excitement'), (['hkfjj'], 'excitement'), (['gjlfoiodso'], 'excitement'), (['cbbmlkllll'], 'excitement'), (['fieueiioohd'], 'excitement'), (['ohhhhhhhhh'], 'excitement'), (['bbbbb'], 'excitement'), (['cccc'], 'excitement'), (['vvvv'], 'excitement'), (['ddddd'], 'excitement'), (['eeee'], 'excitement'), (['ffff'], 'excitement'), (['ggggg'], 'excitement'), (['hhh'], 'excitement'), (['iiii'], 'excitement'), (['jjjj'], 'excitement'), (['llll'], 'excitement'), (['nnnnn'], 'excitement'), (['pppp'], 'excitement'), (['qqqq'], 'excitement'), (['rrrr'], 'excitement'), (['tttt'], 'excitement'), (['vvvv'], 'excitement'), (['wwww'], 'excitement'), (['xxx'], 'excitement'), (['kkk'], 'character_sp'), (['sss'], 'character_sp'), (['oooo'], 'character_sp'), (['zzzz'], 'character_sl'), (['fine'], 'fine'), (['i', 'am', 'fine'], 'fine'), (['you', 'are', 'cute'], 'cute'), (['you', 'so', 'beautifull'], 'cute'), (['eww'], 'disgust'), (['it', \"'s\", 'so', 'disgusting'], 'disgust'), (['disgust'], 'disgust'), (['disgusting'], 'disgust'), (['it', 'was', 'disgusting'], 'disgust'), (['you', 'are', 'so', 'annoying'], 'angry'), (['you', 'idiot'], 'angry'), ([',', '#', '$', '%', '^', '&'], 'angry'), (['$', '$', '#', '^'], 'angry'), (['%', '%', '$', '#', '^'], 'angry'), (['^', '$', '#', '%'], 'angry'), (['!', '#', '@'], 'angry'), (['i', 'am', 'so', 'ashamed', 'of', 'myself'], 'shame'), (['i', 'am', 'a', 'loser'], 'shame'), (['shame'], 'shame'), (['shame', 'of', 'you'], 'shame'), (['it', \"'s\", 'because', 'of', 'me'], 'guilt'), (['i', 'am', 'the', 'reason'], 'guilt'), (['i', 'am', 'so', 'cruel'], 'guilt'), (['i', 'feel', 'guilty'], 'guilt'), (['guilt'], 'guilt'), (['i', 'am', 'the', 'one', 'to', 'be', 'punished'], 'guilt')]\n"
          ]
        }
      ],
      "source": [
        "import nltk\n",
        "nltk.download('punkt')\n",
        "words=[]\n",
        "classes = []\n",
        "documents = []\n",
        "ignore_letters = ['!', '?', ',', '.']\n",
        "for intent in intents['intents']:\n",
        "    for pattern in intent['patterns']:\n",
        "        #tokenize each word\n",
        "        word = nltk.word_tokenize(pattern)\n",
        "        words.extend(word)\n",
        "        #add documents in the corpus\n",
        "        documents.append((word, intent['tag']))\n",
        "        # add to our classes list\n",
        "        if intent['tag'] not in classes:\n",
        "            classes.append(intent['tag'])\n",
        "print(documents)"
      ]
    },
    {
      "cell_type": "code",
      "execution_count": null,
      "metadata": {
        "colab": {
          "base_uri": "https://localhost:8080/"
        },
        "id": "fQmkYrce2APb",
        "outputId": "d7883e2a-1ce9-422a-a62c-d6e05f7eeea2"
      },
      "outputs": [
        {
          "name": "stdout",
          "output_type": "stream",
          "text": [
            "[nltk_data] Downloading package wordnet to /root/nltk_data...\n",
            "[nltk_data]   Package wordnet is already up-to-date!\n",
            "Training data is created\n"
          ]
        },
        {
          "name": "stderr",
          "output_type": "stream",
          "text": [
            "/usr/local/lib/python3.7/dist-packages/ipykernel_launcher.py:25: VisibleDeprecationWarning: Creating an ndarray from ragged nested sequences (which is a list-or-tuple of lists-or-tuples-or ndarrays with different lengths or shapes) is deprecated. If you meant to do this, you must specify 'dtype=object' when creating the ndarray.\n"
          ]
        }
      ],
      "source": [
        "import nltk\n",
        "nltk.download('wordnet')\n",
        "# create the training data\n",
        "training = []\n",
        "# create empty array for the output\n",
        "output_empty = [0] * len(classes)\n",
        "# training set, bag of words for every sentence\n",
        "for doc in documents:\n",
        "    # initializing bag of words\n",
        "\n",
        "    bag = []\n",
        "    # list of tokenized words for the pattern\n",
        "    word_patterns = doc[0]\n",
        "    # lemmatize each word - create base word, in attempt to represent related words\n",
        "    word_patterns = [lemmatizer.lemmatize(word.lower()) for word in word_patterns]\n",
        "    # create the bag of words array with 1, if word is found in current pattern\n",
        "    for word in words:\n",
        "        bag.append(1) if word in word_patterns else bag.append(0)\n",
        "    # output is a '0' for each tag and '1' for current tag (for each pattern)\n",
        "    output_row = list(output_empty)\n",
        "    output_row[classes.index(doc[1])] = 1 #\n",
        "    training.append([bag, output_row])\n",
        "# shuffle the features and make numpy array\n",
        "random.shuffle(training)\n",
        "training = np.array(training)\n",
        "# create training and testing lists. X - patterns, Y - intents\n",
        "train_x = list(training[:,0])\n",
        "train_y = list(training[:,1])\n",
        "print(\"Training data is created\")\n",
        "#print(train_x)\n",
        "#print(train_y)"
      ]
    },
    {
      "cell_type": "markdown",
      "metadata": {
        "id": "npkB3-YC0lxX"
      },
      "source": [
        ""
      ]
    },
    {
      "cell_type": "code",
      "execution_count": null,
      "metadata": {
        "colab": {
          "background_save": true,
          "base_uri": "https://localhost:8080/"
        },
        "id": "N5SaLoZJ2kpo",
        "outputId": "df116e1c-5529-4c4a-d611-2b333c418182"
      },
      "outputs": [
        {
          "name": "stderr",
          "output_type": "stream",
          "text": [
            "/usr/local/lib/python3.7/dist-packages/keras/optimizer_v2/gradient_descent.py:102: UserWarning: The `lr` argument is deprecated, use `learning_rate` instead.\n",
            "  super(SGD, self).__init__(name, **kwargs)\n"
          ]
        },
        {
          "name": "stdout",
          "output_type": "stream",
          "text": [
            "Epoch 1/200\n",
            "35/35 [==============================] - 1s 3ms/step - loss: 3.4289 - accuracy: 0.0988\n",
            "Epoch 2/200\n",
            "35/35 [==============================] - 0s 2ms/step - loss: 3.2703 - accuracy: 0.1744\n",
            "Epoch 3/200\n",
            "35/35 [==============================] - 0s 2ms/step - loss: 3.0960 - accuracy: 0.2151\n",
            "Epoch 4/200\n",
            "35/35 [==============================] - 0s 2ms/step - loss: 2.9237 - accuracy: 0.2267\n",
            "Epoch 5/200\n",
            "35/35 [==============================] - 0s 2ms/step - loss: 2.7718 - accuracy: 0.2907\n",
            "Epoch 6/200\n",
            "35/35 [==============================] - 0s 3ms/step - loss: 2.5996 - accuracy: 0.3023\n",
            "Epoch 7/200\n",
            "35/35 [==============================] - 0s 2ms/step - loss: 2.5338 - accuracy: 0.3140\n",
            "Epoch 8/200\n",
            "35/35 [==============================] - 0s 2ms/step - loss: 2.4610 - accuracy: 0.3314\n",
            "Epoch 9/200\n",
            "35/35 [==============================] - 0s 2ms/step - loss: 2.3381 - accuracy: 0.3605\n",
            "Epoch 10/200\n",
            "35/35 [==============================] - 0s 2ms/step - loss: 2.2998 - accuracy: 0.3430\n",
            "Epoch 11/200\n",
            "35/35 [==============================] - 0s 2ms/step - loss: 2.2634 - accuracy: 0.3837\n",
            "Epoch 12/200\n",
            "35/35 [==============================] - 0s 3ms/step - loss: 2.2017 - accuracy: 0.3779\n",
            "Epoch 13/200\n",
            "35/35 [==============================] - 0s 2ms/step - loss: 2.0897 - accuracy: 0.4186\n",
            "Epoch 14/200\n",
            "35/35 [==============================] - 0s 2ms/step - loss: 2.0751 - accuracy: 0.3837\n",
            "Epoch 15/200\n",
            "35/35 [==============================] - 0s 2ms/step - loss: 2.1127 - accuracy: 0.3895\n",
            "Epoch 16/200\n",
            "35/35 [==============================] - 0s 2ms/step - loss: 1.9481 - accuracy: 0.4360\n",
            "Epoch 17/200\n",
            "35/35 [==============================] - 0s 2ms/step - loss: 1.9431 - accuracy: 0.4244\n",
            "Epoch 18/200\n",
            "35/35 [==============================] - 0s 2ms/step - loss: 1.8500 - accuracy: 0.4477\n",
            "Epoch 19/200\n",
            "35/35 [==============================] - 0s 2ms/step - loss: 1.7722 - accuracy: 0.4767\n",
            "Epoch 20/200\n",
            "35/35 [==============================] - 0s 2ms/step - loss: 1.7532 - accuracy: 0.4244\n",
            "Epoch 21/200\n",
            "35/35 [==============================] - 0s 2ms/step - loss: 1.6437 - accuracy: 0.4826\n",
            "Epoch 22/200\n",
            "35/35 [==============================] - 0s 2ms/step - loss: 1.7964 - accuracy: 0.4651\n",
            "Epoch 23/200\n",
            "35/35 [==============================] - 0s 2ms/step - loss: 1.6377 - accuracy: 0.4709\n",
            "Epoch 24/200\n",
            "35/35 [==============================] - 0s 2ms/step - loss: 1.7995 - accuracy: 0.4419\n",
            "Epoch 25/200\n",
            "35/35 [==============================] - 0s 2ms/step - loss: 1.5166 - accuracy: 0.5174\n",
            "Epoch 26/200\n",
            "35/35 [==============================] - 0s 2ms/step - loss: 1.6656 - accuracy: 0.5291\n",
            "Epoch 27/200\n",
            "35/35 [==============================] - 0s 2ms/step - loss: 1.4696 - accuracy: 0.5407\n",
            "Epoch 28/200\n",
            "35/35 [==============================] - 0s 2ms/step - loss: 1.4267 - accuracy: 0.5988\n",
            "Epoch 29/200\n",
            "35/35 [==============================] - 0s 2ms/step - loss: 1.4728 - accuracy: 0.6047\n",
            "Epoch 30/200\n",
            "35/35 [==============================] - 0s 2ms/step - loss: 1.4313 - accuracy: 0.5988\n",
            "Epoch 31/200\n",
            "35/35 [==============================] - 0s 3ms/step - loss: 1.4311 - accuracy: 0.5523\n",
            "Epoch 32/200\n",
            "35/35 [==============================] - 0s 2ms/step - loss: 1.3607 - accuracy: 0.5872\n",
            "Epoch 33/200\n",
            "35/35 [==============================] - 0s 2ms/step - loss: 1.3177 - accuracy: 0.6047\n",
            "Epoch 34/200\n",
            "35/35 [==============================] - 0s 2ms/step - loss: 1.3116 - accuracy: 0.6279\n",
            "Epoch 35/200\n",
            "35/35 [==============================] - 0s 2ms/step - loss: 1.2437 - accuracy: 0.6453\n",
            "Epoch 36/200\n",
            "35/35 [==============================] - 0s 2ms/step - loss: 1.2818 - accuracy: 0.6628\n",
            "Epoch 37/200\n",
            "35/35 [==============================] - 0s 2ms/step - loss: 1.2416 - accuracy: 0.6279\n",
            "Epoch 38/200\n",
            "35/35 [==============================] - 0s 2ms/step - loss: 1.2969 - accuracy: 0.5930\n",
            "Epoch 39/200\n",
            "35/35 [==============================] - 0s 2ms/step - loss: 1.2574 - accuracy: 0.6279\n",
            "Epoch 40/200\n",
            "35/35 [==============================] - 0s 2ms/step - loss: 1.0618 - accuracy: 0.6977\n",
            "Epoch 41/200\n",
            "35/35 [==============================] - 0s 2ms/step - loss: 1.4742 - accuracy: 0.6047\n",
            "Epoch 42/200\n",
            "35/35 [==============================] - 0s 2ms/step - loss: 1.1030 - accuracy: 0.6570\n",
            "Epoch 43/200\n",
            "35/35 [==============================] - 0s 2ms/step - loss: 1.1389 - accuracy: 0.6628\n",
            "Epoch 44/200\n",
            "35/35 [==============================] - 0s 2ms/step - loss: 1.1071 - accuracy: 0.6919\n",
            "Epoch 45/200\n",
            "35/35 [==============================] - 0s 2ms/step - loss: 1.0531 - accuracy: 0.6802\n",
            "Epoch 46/200\n",
            "35/35 [==============================] - 0s 2ms/step - loss: 1.0668 - accuracy: 0.6802\n",
            "Epoch 47/200\n",
            "35/35 [==============================] - 0s 2ms/step - loss: 1.0837 - accuracy: 0.6744\n",
            "Epoch 48/200\n",
            "35/35 [==============================] - 0s 3ms/step - loss: 0.9596 - accuracy: 0.7267\n",
            "Epoch 49/200\n",
            "35/35 [==============================] - 0s 2ms/step - loss: 1.0024 - accuracy: 0.7093\n",
            "Epoch 50/200\n",
            "35/35 [==============================] - 0s 2ms/step - loss: 1.0191 - accuracy: 0.6744\n",
            "Epoch 51/200\n",
            "35/35 [==============================] - 0s 2ms/step - loss: 1.0132 - accuracy: 0.6919\n",
            "Epoch 52/200\n",
            "35/35 [==============================] - 0s 2ms/step - loss: 0.9148 - accuracy: 0.7442\n",
            "Epoch 53/200\n",
            "35/35 [==============================] - 0s 2ms/step - loss: 1.0039 - accuracy: 0.6860\n",
            "Epoch 54/200\n",
            "35/35 [==============================] - 0s 2ms/step - loss: 0.9651 - accuracy: 0.7209\n",
            "Epoch 55/200\n",
            "35/35 [==============================] - 0s 2ms/step - loss: 1.1034 - accuracy: 0.6860\n",
            "Epoch 56/200\n",
            "35/35 [==============================] - 0s 2ms/step - loss: 1.0314 - accuracy: 0.6570\n",
            "Epoch 57/200\n",
            "35/35 [==============================] - 0s 2ms/step - loss: 0.9615 - accuracy: 0.6802\n",
            "Epoch 58/200\n",
            "35/35 [==============================] - 0s 2ms/step - loss: 0.8767 - accuracy: 0.7558\n",
            "Epoch 59/200\n",
            "35/35 [==============================] - 0s 2ms/step - loss: 0.9672 - accuracy: 0.6919\n",
            "Epoch 60/200\n",
            "35/35 [==============================] - 0s 2ms/step - loss: 0.9210 - accuracy: 0.7326\n",
            "Epoch 61/200\n",
            "35/35 [==============================] - 0s 2ms/step - loss: 1.0343 - accuracy: 0.7151\n",
            "Epoch 62/200\n",
            "35/35 [==============================] - 0s 2ms/step - loss: 0.8531 - accuracy: 0.7384\n",
            "Epoch 63/200\n",
            "35/35 [==============================] - 0s 2ms/step - loss: 0.8578 - accuracy: 0.7442\n",
            "Epoch 64/200\n",
            "35/35 [==============================] - 0s 2ms/step - loss: 0.9092 - accuracy: 0.7093\n",
            "Epoch 65/200\n",
            "35/35 [==============================] - 0s 2ms/step - loss: 1.0360 - accuracy: 0.6919\n",
            "Epoch 66/200\n",
            "35/35 [==============================] - 0s 2ms/step - loss: 1.0159 - accuracy: 0.7035\n",
            "Epoch 67/200\n",
            "35/35 [==============================] - 0s 2ms/step - loss: 0.8908 - accuracy: 0.7558\n",
            "Epoch 68/200\n",
            "35/35 [==============================] - 0s 2ms/step - loss: 0.7901 - accuracy: 0.7442\n",
            "Epoch 69/200\n",
            "35/35 [==============================] - 0s 2ms/step - loss: 0.8825 - accuracy: 0.7035\n",
            "Epoch 70/200\n",
            "35/35 [==============================] - 0s 2ms/step - loss: 0.9155 - accuracy: 0.6977\n",
            "Epoch 71/200\n",
            "35/35 [==============================] - 0s 2ms/step - loss: 1.0851 - accuracy: 0.6919\n",
            "Epoch 72/200\n",
            "35/35 [==============================] - 0s 2ms/step - loss: 0.9086 - accuracy: 0.6802\n",
            "Epoch 73/200\n",
            "35/35 [==============================] - 0s 2ms/step - loss: 0.8961 - accuracy: 0.7326\n",
            "Epoch 74/200\n",
            "35/35 [==============================] - 0s 2ms/step - loss: 0.9888 - accuracy: 0.7209\n",
            "Epoch 75/200\n",
            "35/35 [==============================] - 0s 2ms/step - loss: 0.9809 - accuracy: 0.6860\n",
            "Epoch 76/200\n",
            "35/35 [==============================] - 0s 2ms/step - loss: 0.9699 - accuracy: 0.6744\n",
            "Epoch 77/200\n",
            "35/35 [==============================] - 0s 2ms/step - loss: 1.0763 - accuracy: 0.7093\n",
            "Epoch 78/200\n",
            "35/35 [==============================] - 0s 2ms/step - loss: 0.8403 - accuracy: 0.7326\n",
            "Epoch 79/200\n",
            "35/35 [==============================] - 0s 2ms/step - loss: 0.8090 - accuracy: 0.7500\n",
            "Epoch 80/200\n",
            "35/35 [==============================] - 0s 2ms/step - loss: 0.9329 - accuracy: 0.7151\n",
            "Epoch 81/200\n",
            "35/35 [==============================] - 0s 2ms/step - loss: 0.7028 - accuracy: 0.7558\n",
            "Epoch 82/200\n",
            "35/35 [==============================] - 0s 2ms/step - loss: 0.8295 - accuracy: 0.7209\n",
            "Epoch 83/200\n",
            "35/35 [==============================] - 0s 2ms/step - loss: 0.7972 - accuracy: 0.7500\n",
            "Epoch 84/200\n",
            "35/35 [==============================] - 0s 2ms/step - loss: 0.8786 - accuracy: 0.7267\n",
            "Epoch 85/200\n",
            "35/35 [==============================] - 0s 2ms/step - loss: 0.8995 - accuracy: 0.7267\n",
            "Epoch 86/200\n",
            "35/35 [==============================] - 0s 2ms/step - loss: 0.9079 - accuracy: 0.7442\n",
            "Epoch 87/200\n",
            "35/35 [==============================] - 0s 2ms/step - loss: 0.7559 - accuracy: 0.7326\n",
            "Epoch 88/200\n",
            "35/35 [==============================] - 0s 2ms/step - loss: 0.9704 - accuracy: 0.7093\n",
            "Epoch 89/200\n",
            "35/35 [==============================] - 0s 2ms/step - loss: 0.8492 - accuracy: 0.7326\n",
            "Epoch 90/200\n",
            "35/35 [==============================] - 0s 2ms/step - loss: 1.0551 - accuracy: 0.7035\n",
            "Epoch 91/200\n",
            "35/35 [==============================] - 0s 2ms/step - loss: 0.7750 - accuracy: 0.7558\n",
            "Epoch 92/200\n",
            "35/35 [==============================] - 0s 2ms/step - loss: 0.7935 - accuracy: 0.7209\n",
            "Epoch 93/200\n",
            "35/35 [==============================] - 0s 2ms/step - loss: 0.8554 - accuracy: 0.7326\n",
            "Epoch 94/200\n",
            "35/35 [==============================] - 0s 2ms/step - loss: 0.9118 - accuracy: 0.7209\n",
            "Epoch 95/200\n",
            "35/35 [==============================] - 0s 2ms/step - loss: 0.8637 - accuracy: 0.7267\n",
            "Epoch 96/200\n",
            "35/35 [==============================] - 0s 2ms/step - loss: 0.7933 - accuracy: 0.7384\n",
            "Epoch 97/200\n",
            "35/35 [==============================] - 0s 2ms/step - loss: 0.7834 - accuracy: 0.7558\n",
            "Epoch 98/200\n",
            "35/35 [==============================] - 0s 2ms/step - loss: 0.6535 - accuracy: 0.7791\n",
            "Epoch 99/200\n",
            "35/35 [==============================] - 0s 2ms/step - loss: 0.6848 - accuracy: 0.7849\n",
            "Epoch 100/200\n",
            "35/35 [==============================] - 0s 2ms/step - loss: 0.8631 - accuracy: 0.6802\n",
            "Epoch 101/200\n",
            "35/35 [==============================] - 0s 2ms/step - loss: 0.8078 - accuracy: 0.7616\n",
            "Epoch 102/200\n",
            "35/35 [==============================] - 0s 2ms/step - loss: 0.6360 - accuracy: 0.8023\n",
            "Epoch 103/200\n",
            "35/35 [==============================] - 0s 2ms/step - loss: 0.7075 - accuracy: 0.7733\n",
            "Epoch 104/200\n",
            "35/35 [==============================] - 0s 2ms/step - loss: 0.7986 - accuracy: 0.7733\n",
            "Epoch 105/200\n",
            "35/35 [==============================] - 0s 2ms/step - loss: 0.8654 - accuracy: 0.7267\n",
            "Epoch 106/200\n",
            "35/35 [==============================] - 0s 2ms/step - loss: 0.8433 - accuracy: 0.7500\n",
            "Epoch 107/200\n",
            "35/35 [==============================] - 0s 2ms/step - loss: 0.6539 - accuracy: 0.7849\n",
            "Epoch 108/200\n",
            "35/35 [==============================] - 0s 2ms/step - loss: 0.7974 - accuracy: 0.7500\n",
            "Epoch 109/200\n",
            "35/35 [==============================] - 0s 2ms/step - loss: 0.7539 - accuracy: 0.7326\n",
            "Epoch 110/200\n",
            "35/35 [==============================] - 0s 2ms/step - loss: 0.7813 - accuracy: 0.7558\n",
            "Epoch 111/200\n",
            "35/35 [==============================] - 0s 2ms/step - loss: 0.7388 - accuracy: 0.7733\n",
            "Epoch 112/200\n",
            "35/35 [==============================] - 0s 2ms/step - loss: 0.6580 - accuracy: 0.7674\n",
            "Epoch 113/200\n",
            "35/35 [==============================] - 0s 2ms/step - loss: 0.6331 - accuracy: 0.8023\n",
            "Epoch 114/200\n",
            "35/35 [==============================] - 0s 2ms/step - loss: 0.7798 - accuracy: 0.7849\n",
            "Epoch 115/200\n",
            "35/35 [==============================] - 0s 2ms/step - loss: 0.8182 - accuracy: 0.7442\n",
            "Epoch 116/200\n",
            "35/35 [==============================] - 0s 2ms/step - loss: 0.8507 - accuracy: 0.6919\n",
            "Epoch 117/200\n",
            "35/35 [==============================] - 0s 2ms/step - loss: 0.8352 - accuracy: 0.7209\n",
            "Epoch 118/200\n",
            "35/35 [==============================] - 0s 2ms/step - loss: 0.7119 - accuracy: 0.8023\n",
            "Epoch 119/200\n",
            "35/35 [==============================] - 0s 2ms/step - loss: 0.7620 - accuracy: 0.7674\n",
            "Epoch 120/200\n",
            "35/35 [==============================] - 0s 2ms/step - loss: 0.6768 - accuracy: 0.7791\n",
            "Epoch 121/200\n",
            "35/35 [==============================] - 0s 2ms/step - loss: 0.6774 - accuracy: 0.7616\n",
            "Epoch 122/200\n",
            "35/35 [==============================] - 0s 2ms/step - loss: 0.7623 - accuracy: 0.7442\n",
            "Epoch 123/200\n",
            "35/35 [==============================] - 0s 2ms/step - loss: 0.6376 - accuracy: 0.7616\n",
            "Epoch 124/200\n",
            "35/35 [==============================] - 0s 2ms/step - loss: 0.7255 - accuracy: 0.7442\n",
            "Epoch 125/200\n",
            "35/35 [==============================] - 0s 2ms/step - loss: 0.7787 - accuracy: 0.7384\n",
            "Epoch 126/200\n",
            "35/35 [==============================] - 0s 2ms/step - loss: 0.6716 - accuracy: 0.7558\n",
            "Epoch 127/200\n",
            "35/35 [==============================] - 0s 2ms/step - loss: 0.7026 - accuracy: 0.7733\n",
            "Epoch 128/200\n",
            "35/35 [==============================] - 0s 2ms/step - loss: 0.7606 - accuracy: 0.7442\n",
            "Epoch 129/200\n",
            "35/35 [==============================] - 0s 2ms/step - loss: 0.6811 - accuracy: 0.7791\n",
            "Epoch 130/200\n",
            "35/35 [==============================] - 0s 2ms/step - loss: 0.7858 - accuracy: 0.7326\n",
            "Epoch 131/200\n",
            "35/35 [==============================] - 0s 2ms/step - loss: 0.7217 - accuracy: 0.7674\n",
            "Epoch 132/200\n",
            "35/35 [==============================] - 0s 2ms/step - loss: 0.8291 - accuracy: 0.7326\n",
            "Epoch 133/200\n",
            "35/35 [==============================] - 0s 2ms/step - loss: 0.5799 - accuracy: 0.8081\n",
            "Epoch 134/200\n",
            "35/35 [==============================] - 0s 2ms/step - loss: 0.7285 - accuracy: 0.7558\n",
            "Epoch 135/200\n",
            "35/35 [==============================] - 0s 2ms/step - loss: 0.7208 - accuracy: 0.7733\n",
            "Epoch 136/200\n",
            "35/35 [==============================] - 0s 2ms/step - loss: 0.6596 - accuracy: 0.7616\n",
            "Epoch 137/200\n",
            "35/35 [==============================] - 0s 2ms/step - loss: 0.5537 - accuracy: 0.8023\n",
            "Epoch 138/200\n",
            "35/35 [==============================] - 0s 2ms/step - loss: 0.6536 - accuracy: 0.7733\n",
            "Epoch 139/200\n",
            "35/35 [==============================] - 0s 2ms/step - loss: 0.6718 - accuracy: 0.7674\n",
            "Epoch 140/200\n",
            "35/35 [==============================] - 0s 2ms/step - loss: 0.6491 - accuracy: 0.8023\n",
            "Epoch 141/200\n",
            "35/35 [==============================] - 0s 2ms/step - loss: 0.6925 - accuracy: 0.7907\n",
            "Epoch 142/200\n",
            "35/35 [==============================] - 0s 2ms/step - loss: 0.7804 - accuracy: 0.7558\n",
            "Epoch 143/200\n",
            "35/35 [==============================] - 0s 2ms/step - loss: 0.6809 - accuracy: 0.7674\n",
            "Epoch 144/200\n",
            "35/35 [==============================] - 0s 2ms/step - loss: 0.7781 - accuracy: 0.7500\n",
            "Epoch 145/200\n",
            "35/35 [==============================] - 0s 2ms/step - loss: 0.6561 - accuracy: 0.7849\n",
            "Epoch 146/200\n",
            "35/35 [==============================] - 0s 2ms/step - loss: 0.6002 - accuracy: 0.8314\n",
            "Epoch 147/200\n",
            "35/35 [==============================] - 0s 2ms/step - loss: 0.9569 - accuracy: 0.7384\n",
            "Epoch 148/200\n",
            "35/35 [==============================] - 0s 2ms/step - loss: 0.6996 - accuracy: 0.7616\n",
            "Epoch 149/200\n",
            "35/35 [==============================] - 0s 2ms/step - loss: 0.7723 - accuracy: 0.7500\n",
            "Epoch 150/200\n",
            "35/35 [==============================] - 0s 2ms/step - loss: 0.7300 - accuracy: 0.7674\n",
            "Epoch 151/200\n",
            "35/35 [==============================] - 0s 2ms/step - loss: 0.6786 - accuracy: 0.7558\n",
            "Epoch 152/200\n",
            "35/35 [==============================] - 0s 2ms/step - loss: 0.5737 - accuracy: 0.8140\n",
            "Epoch 153/200\n",
            "35/35 [==============================] - 0s 2ms/step - loss: 0.6011 - accuracy: 0.8198\n",
            "Epoch 154/200\n",
            "35/35 [==============================] - 0s 2ms/step - loss: 0.6528 - accuracy: 0.7907\n",
            "Epoch 155/200\n",
            "35/35 [==============================] - 0s 2ms/step - loss: 0.5462 - accuracy: 0.8198\n",
            "Epoch 156/200\n",
            "35/35 [==============================] - 0s 2ms/step - loss: 0.5903 - accuracy: 0.7849\n",
            "Epoch 157/200\n",
            "35/35 [==============================] - 0s 2ms/step - loss: 0.7687 - accuracy: 0.7558\n",
            "Epoch 158/200\n",
            "35/35 [==============================] - 0s 2ms/step - loss: 0.7082 - accuracy: 0.7733\n",
            "Epoch 159/200\n",
            "35/35 [==============================] - 0s 2ms/step - loss: 0.6523 - accuracy: 0.7616\n",
            "Epoch 160/200\n",
            "35/35 [==============================] - 0s 2ms/step - loss: 0.6418 - accuracy: 0.7849\n",
            "Epoch 161/200\n",
            "35/35 [==============================] - 0s 2ms/step - loss: 0.7807 - accuracy: 0.7674\n",
            "Epoch 162/200\n",
            "35/35 [==============================] - 0s 2ms/step - loss: 0.7905 - accuracy: 0.7500\n",
            "Epoch 163/200\n",
            "35/35 [==============================] - 0s 2ms/step - loss: 0.6800 - accuracy: 0.7791\n",
            "Epoch 164/200\n",
            "35/35 [==============================] - 0s 2ms/step - loss: 0.6035 - accuracy: 0.8198\n",
            "Epoch 165/200\n",
            "35/35 [==============================] - 0s 2ms/step - loss: 0.5907 - accuracy: 0.7965\n",
            "Epoch 166/200\n",
            "35/35 [==============================] - 0s 2ms/step - loss: 0.6000 - accuracy: 0.7791\n",
            "Epoch 167/200\n",
            "35/35 [==============================] - 0s 2ms/step - loss: 0.5536 - accuracy: 0.8198\n",
            "Epoch 168/200\n",
            "35/35 [==============================] - 0s 2ms/step - loss: 0.5533 - accuracy: 0.8256\n",
            "Epoch 169/200\n",
            "35/35 [==============================] - 0s 2ms/step - loss: 0.7024 - accuracy: 0.7733\n",
            "Epoch 170/200\n",
            "35/35 [==============================] - 0s 2ms/step - loss: 0.6404 - accuracy: 0.8140\n",
            "Epoch 171/200\n",
            "35/35 [==============================] - 0s 2ms/step - loss: 0.6741 - accuracy: 0.7616\n",
            "Epoch 172/200\n",
            "35/35 [==============================] - 0s 2ms/step - loss: 0.5669 - accuracy: 0.7733\n",
            "Epoch 173/200\n",
            "35/35 [==============================] - 0s 2ms/step - loss: 0.6448 - accuracy: 0.7791\n",
            "Epoch 174/200\n",
            "35/35 [==============================] - 0s 2ms/step - loss: 0.7057 - accuracy: 0.7558\n",
            "Epoch 175/200\n",
            "35/35 [==============================] - 0s 2ms/step - loss: 0.6055 - accuracy: 0.8081\n",
            "Epoch 176/200\n",
            "35/35 [==============================] - 0s 2ms/step - loss: 0.6076 - accuracy: 0.7791\n",
            "Epoch 177/200\n",
            "35/35 [==============================] - 0s 2ms/step - loss: 0.7547 - accuracy: 0.7674\n",
            "Epoch 178/200\n",
            "35/35 [==============================] - 0s 2ms/step - loss: 0.7540 - accuracy: 0.7558\n",
            "Epoch 179/200\n",
            "35/35 [==============================] - 0s 2ms/step - loss: 0.6932 - accuracy: 0.7674\n",
            "Epoch 180/200\n",
            "35/35 [==============================] - 0s 2ms/step - loss: 0.6357 - accuracy: 0.7791\n",
            "Epoch 181/200\n",
            "35/35 [==============================] - 0s 2ms/step - loss: 0.6706 - accuracy: 0.7558\n",
            "Epoch 182/200\n",
            "35/35 [==============================] - 0s 2ms/step - loss: 0.5365 - accuracy: 0.8140\n",
            "Epoch 183/200\n",
            "35/35 [==============================] - 0s 2ms/step - loss: 0.6242 - accuracy: 0.8023\n",
            "Epoch 184/200\n",
            "35/35 [==============================] - 0s 2ms/step - loss: 0.6040 - accuracy: 0.7965\n",
            "Epoch 185/200\n",
            "35/35 [==============================] - 0s 2ms/step - loss: 0.5654 - accuracy: 0.7791\n",
            "Epoch 186/200\n",
            "35/35 [==============================] - 0s 2ms/step - loss: 0.6701 - accuracy: 0.7965\n",
            "Epoch 187/200\n",
            "35/35 [==============================] - 0s 2ms/step - loss: 0.6154 - accuracy: 0.8140\n",
            "Epoch 188/200\n",
            "35/35 [==============================] - 0s 2ms/step - loss: 0.6154 - accuracy: 0.7965\n",
            "Epoch 189/200\n",
            "35/35 [==============================] - 0s 2ms/step - loss: 0.7040 - accuracy: 0.7558\n",
            "Epoch 190/200\n",
            "35/35 [==============================] - 0s 2ms/step - loss: 0.5908 - accuracy: 0.7965\n",
            "Epoch 191/200\n",
            "35/35 [==============================] - 0s 2ms/step - loss: 0.6222 - accuracy: 0.7674\n",
            "Epoch 192/200\n",
            "35/35 [==============================] - 0s 2ms/step - loss: 0.5625 - accuracy: 0.8140\n",
            "Epoch 193/200\n",
            "35/35 [==============================] - 0s 2ms/step - loss: 0.6646 - accuracy: 0.7907\n",
            "Epoch 194/200\n",
            "35/35 [==============================] - 0s 2ms/step - loss: 0.6175 - accuracy: 0.7791\n",
            "Epoch 195/200\n",
            "35/35 [==============================] - 0s 2ms/step - loss: 0.6697 - accuracy: 0.7674\n",
            "Epoch 196/200\n",
            "35/35 [==============================] - 0s 2ms/step - loss: 0.6414 - accuracy: 0.7849\n",
            "Epoch 197/200\n",
            "35/35 [==============================] - 0s 2ms/step - loss: 0.5707 - accuracy: 0.7965\n",
            "Epoch 198/200\n",
            "35/35 [==============================] - 0s 2ms/step - loss: 0.7145 - accuracy: 0.7791\n",
            "Epoch 199/200\n",
            "35/35 [==============================] - 0s 2ms/step - loss: 0.6768 - accuracy: 0.7674\n",
            "Epoch 200/200\n",
            "35/35 [==============================] - 0s 2ms/step - loss: 0.6103 - accuracy: 0.7849\n",
            "model is created\n"
          ]
        }
      ],
      "source": [
        "# deep neural networds model KERAS\n",
        "model = Sequential()\n",
        "model.add(Dense(128, input_shape=(len(train_x[0]),), activation='relu'))\n",
        "model.add(Dropout(0.5))\n",
        "model.add(Dense(64, activation='relu'))\n",
        "model.add(Dropout(0.5))\n",
        "model.add(Dense(len(train_y[0]), activation='softmax'))\n",
        "# Compiling model. SGD with Nesterov accelerated gradient gives good results for this model\n",
        "sgd = SGD(lr=0.01, decay=1e-6, momentum=0.9, nesterov=True) #optimizer \n",
        "model.compile(loss='categorical_crossentropy', optimizer=sgd, metrics=['accuracy'])\n",
        "#Training and saving the model \n",
        "hist = model.fit(np.array(train_x), np.array(train_y), epochs=200, batch_size=5, verbose=1)\n",
        "model.save('chatbot_model.h5', hist)\n",
        "print(\"model is created\")"
      ]
    },
    {
      "cell_type": "code",
      "execution_count": null,
      "metadata": {
        "colab": {
          "base_uri": "https://localhost:8080/"
        },
        "id": "JXMRMVuEhs9z",
        "outputId": "738af2cf-63b0-4900-85a5-ef2e6234f088"
      },
      "outputs": [
        {
          "name": "stdout",
          "output_type": "stream",
          "text": [
            "Model: \"sequential\"\n",
            "_________________________________________________________________\n",
            " Layer (type)                Output Shape              Param #   \n",
            "=================================================================\n",
            " dense (Dense)               (None, 128)               50432     \n",
            "                                                                 \n",
            " dropout (Dropout)           (None, 128)               0         \n",
            "                                                                 \n",
            " dense_1 (Dense)             (None, 64)                8256      \n",
            "                                                                 \n",
            " dropout_1 (Dropout)         (None, 64)                0         \n",
            "                                                                 \n",
            " dense_2 (Dense)             (None, 31)                2015      \n",
            "                                                                 \n",
            "=================================================================\n",
            "Total params: 60,703\n",
            "Trainable params: 60,703\n",
            "Non-trainable params: 0\n",
            "_________________________________________________________________\n"
          ]
        }
      ],
      "source": [
        " model.summary()"
      ]
    },
    {
      "cell_type": "code",
      "execution_count": null,
      "metadata": {
        "id": "vnPze0wTmN6i"
      },
      "outputs": [],
      "source": [
        "import tensorflow as tf"
      ]
    },
    {
      "cell_type": "code",
      "execution_count": null,
      "metadata": {
        "colab": {
          "base_uri": "https://localhost:8080/",
          "height": 644
        },
        "id": "nZcXb0Z5loLK",
        "outputId": "19cab3a6-9ece-432e-c1a7-48d3c5912601"
      },
      "outputs": [
        {
          "data": {
            "image/png": "[encoded data removed]",
            "text/plain": [
              "<IPython.core.display.Image object>"
            ]
          },
          "execution_count": 28,
          "metadata": {},
          "output_type": "execute_result"
        }
      ],
      "source": [
        "tf.keras.utils.plot_model(model,to_file='simple.png',show_shapes=True)"
      ]
    },
    {
      "cell_type": "code",
      "execution_count": null,
      "metadata": {
        "id": "chIZ8fT222Lo"
      },
      "outputs": [],
      "source": [
        "import nltk\n",
        "from nltk.stem import WordNetLemmatizer\n",
        "lemmatizer = WordNetLemmatizer()\n",
        "import pickle\n",
        "import numpy as np\n",
        "from keras.models import load_model\n",
        "model = load_model('chatbot_model.h5')\n",
        "import json\n",
        "import random\n",
        "intents = json.loads(open('/content/drive/MyDrive/Colab Notebooks/intents.json').read())\n",
        "words = pickle.load(open('/content/drive/MyDrive/Colab Notebooks/words.pkl','rb'))\n",
        "classes = pickle.load(open('/content/drive/MyDrive/Colab Notebooks/classes.pkl','rb'))\n",
        "def clean_up_sentence(sentence):\n",
        "    # tokenize the pattern - splitting words into array\n",
        "    sentence_words = nltk.word_tokenize(sentence)\n",
        "    # stemming every word - reducing to base form\n",
        "    sentence_words = [lemmatizer.lemmatize(word.lower()) for word in sentence_words]\n",
        "    return sentence_words\n",
        "# return bag of words array: 0 or 1 for words that exist in sentence\n",
        "def bag_of_words(sentence, words, show_details=True):\n",
        "    # tokenizing patterns\n",
        "    sentence_words = clean_up_sentence(sentence)\n",
        "    # bag of words - vocabulary matrix\n",
        "    bag = [0]*len(words)  \n",
        "    for s in sentence_words:\n",
        "        for i,word in enumerate(words):\n",
        "            if word == s: \n",
        "                # assign 1 if current word is in the vocabulary position\n",
        "                bag[i] = 1\n",
        "                if show_details:\n",
        "                    print (\"found in bag: %s\" % word)\n",
        "    return(np.array(bag))\n",
        "def predict_class(sentence):\n",
        "    # filter below  threshold predictions\n",
        "    p = bag_of_words(sentence, words,show_details=False)\n",
        "    res = model.predict(np.array([p]))[0]\n",
        "    ERROR_THRESHOLD = 0.25\n",
        "    results = [[i,r] for i,r in enumerate(res) if r>ERROR_THRESHOLD]\n",
        "    # sorting strength probability\n",
        "    results.sort(key=lambda x: x[1], reverse=True)\n",
        "    return_list = []\n",
        "    for r in results:\n",
        "        return_list.append({\"intent\": classes[r[0]], \"probability\": str(r[1])})\n",
        "    return return_list\n",
        "def getResponse(ints, intents_json):\n",
        "    tag = ints[0]['intent']\n",
        "    list_of_intents = intents_json['intents']\n",
        "    for i in list_of_intents:\n",
        "        if(i['tag']== tag):\n",
        "            result = random.choice(i['responses'])\n",
        "            break\n",
        "    return result\n",
        "#Creating tkinter GUI\n",
        "# import tkinter\n",
        "# from tkinter import *\n",
        "# def send():\n",
        "#     msg = EntryBox.get(\"1.0\",'end-1c').strip()\n",
        "#     EntryBox.delete(\"0.0\",END)\n",
        "#     if msg != '':\n",
        "#         ChatBox.config(state=NORMAL)\n",
        "#         ChatBox.insert(END, \"You: \" + msg + '\\n\\n')\n",
        "#         ChatBox.config(foreground=\"#446665\", font=(\"Verdana\", 12 )) \n",
        "#         ints = predict_class(msg)\n",
        "#         res = getResponse(ints, intents)\n",
        "#         ChatBox.insert(END, \"Bot: \" + res + '\\n\\n')           \n",
        "#         ChatBox.config(state=DISABLED)\n",
        "#         ChatBox.yview(END)\n",
        "# root = Tk()\n",
        "# root.title(\"Chatbot\")\n",
        "# root.geometry(\"400x500\")\n",
        "# root.resizable(width=FALSE, height=FALSE)\n",
        "# #Create Chat window\n",
        "# ChatBox = Text(root, bd=0, bg=\"white\", height=\"8\", width=\"50\", font=\"Arial\",)\n",
        "# ChatBox.config(state=DISABLED)\n",
        "# #Bind scrollbar to Chat window\n",
        "# scrollbar = Scrollbar(root, command=ChatBox.yview, cursor=\"heart\")\n",
        "# ChatBox['yscrollcommand'] = scrollbar.set\n",
        "# #Create Button to send message\n",
        "# SendButton = Button(root, font=(\"Verdana\",12,'bold'), text=\"Send\", width=\"12\", height=5,\n",
        "#                     bd=0, bg=\"#f9a602\", activebackground=\"#3c9d9b\",fg='#000000',\n",
        "#                     command= send )\n",
        "# #Create the box to enter message\n",
        "# EntryBox = Text(root, bd=0, bg=\"white\",width=\"29\", height=\"5\", font=\"Arial\")\n",
        "# #EntryBox.bind(\"<Return>\", send)\n",
        "# #Place all components on the screen\n",
        "# scrollbar.place(x=376,y=6, height=386)\n",
        "# ChatBox.place(x=6,y=6, height=386, width=370)\n",
        "# EntryBox.place(x=128, y=401, height=90, width=265)\n",
        "# SendButton.place(x=6, y=401, height=90)\n",
        "# root.mainloop()"
      ]
    },
    {
      "cell_type": "code",
      "execution_count": null,
      "metadata": {
        "colab": {
          "base_uri": "https://localhost:8080/"
        },
        "id": "naiGxGhK7wgu",
        "outputId": "52a71d07-e5c1-4b60-ba8a-18e089d81cfc"
      },
      "outputs": [
        {
          "name": "stdout",
          "output_type": "stream",
          "text": [
            "[(['hi'], 'greeting'), (['hello'], 'greeting'), (['hai'], 'greeting'), (['helloo'], 'greeting'), (['hlo'], 'greeting'), (['hloii'], 'greeting'), (['whats', 'up'], 'greeting'), (['sup'], 'greeting'), (['is', 'anyone', 'there'], 'greeting'), (['hey'], 'greeting'), (['bye'], 'goodbye'), (['cya'], 'goodbye'), (['see', 'you', 'later'], 'goodbye'), (['goodbye'], 'goodbye'), (['im', 'leaving'], 'goodbye'), (['have', 'a', 'good', 'day'], 'goodbye'), (['how', 'old', 'are', 'you'], 'age'), (['what', 'is', 'your', 'age'], 'age'), (['thanks'], 'thanks'), (['thank', 'you'], 'thanks'), (['thankyou'], 'thanks'), (['ty'], 'thanks'), (['I', 'owe', 'you', 'one'], 'thanks'), (['whats', 'is', 'your', 'name'], 'name'), (['whats', 'your', 'name'], 'name'), (['whats', 'should', 'I', 'call', 'you'], 'name'), (['how', 'should', 'I', 'address', 'you'], 'name'), (['Yes', 'it', 'does'], 'sky_net_yes'), (['Yeah'], 'sky_net_yes'), (['Haha', 'yep'], 'sky_net_yes'), (['yes'], 'sky_net_yes'), (['Indeed'], 'sky_net_yes'), (['Yup'], 'sky_net_yes'), (['no'], 'sky_net_no'), (['nah'], 'sky_net_no'), (['not', 'really'], 'sky_net_no'), (['nope'], 'sky_net_no'), (['how', 'are', 'you'], 'how_are_you'), (['how', 'are', 'you', 'doing'], 'how_are_you'), (['what', 'is', 'going', 'on'], 'how_are_you'), (['are', 'you', 'good'], 'how_are_you'), (['u', 'good'], 'how_are_you'), (['are', 'u', 'good'], 'how_are_you'), (['are', 'you', 'okay'], 'how_are_you'), (['I', 'am', 'doing', 'great'], 'doing_great'), (['it', 'was', 'a', 'good', 'day'], 'doing_great'), (['I', 'am', 'well'], 'doing_great'), (['Im', 'great'], 'doing_great'), (['awesome'], 'doing_great'), (['happy'], 'doing_great'), (['better'], 'doing_great'), (['fyn'], 'doing_great'), (['fine'], 'doing_great'), (['good', 'day'], 'doing_great'), (['glad', 'to', 'meet', 'you'], 'doing_great'), (['it', 'was', 'so', 'good'], 'doing_great'), (['not', 'great'], 'doing_badly'), (['not', 'well'], 'doing_badly'), (['not', 'good'], 'doing_badly'), (['bad'], 'doing_badly'), (['badly'], 'doing_badly'), (['terrible'], 'doing_badly'), (['horrible'], 'doing_badly'), (['awful'], 'doing_badly'), (['sad'], 'doing_badly'), (['it', 'was', 'so', 'bad'], 'doing_badly'), (['bad', 'day'], 'doing_badly'), (['im', 'so', 'sad'], 'doing_badly'), (['wait', 'you', 'watch', 'Netflix'], 'netflix'), (['how', 'do', 'you', 'watch', 'Netflix'], 'netflix'), (['Netflix'], 'netflix'), (['how', 'can', 'you', 'run'], 'quick_run'), (['how', 'do', 'you', 'run'], 'quick_run'), (['how', 'run'], 'quick_run'), (['why', 'run'], 'quick_run'), (['run'], 'quick_run'), (['you', 'real'], 'real_bot'), (['you', 'human'], 'real_bot'), (['you', 'robot'], 'real_bot'), (['you', 'alive'], 'real_bot'), (['you', 'sentient'], 'real_bot'), (['you', 'conscious'], 'real_bot'), (['tell', 'me', 'joke'], 'joke'), (['got', 'any', 'good', 'jokes'], 'joke'), (['got', 'jokes'], 'joke'), (['can', 'you', 'tell', 'joke'], 'joke'), (['tell', 'joke'], 'joke'), (['haha'], 'good_joke'), (['that', 'was', 'funny'], 'good_joke'), (['very', 'funny'], 'good_joke'), (['good', 'one'], 'good_joke'), (['bad', 'joke'], 'bad_joke'), (['trash', 'joke'], 'bad_joke'), (['terrible'], 'bad_joke'), (['not', 'funny'], 'bad_joke'), (['I', 'hate', 'you'], 'hate'), (['you', 'stupid'], 'hate'), (['you', 'dumb'], 'hate'), (['you', 'mean'], 'hate'), (['i', 'do', \"n't\", 'like', 'you'], 'hate'), (['you', 'my', 'friend'], 'like'), (['I', 'like', 'you'], 'like'), (['I', 'love', 'you'], 'like'), (['you', 'cool'], 'like'), (['you', 'are', 'chill'], 'like'), (['it', 'is', 'nice', 'chatting', 'with', 'you'], 'like'), (['whats', 'favorite', 'show'], 'favorite_show'), (['favorite', 'tv', 'show'], 'favorite_show'), (['Whats', 'favorite', 'movie'], 'favorite_movie'), (['whats', 'favorite', 'film'], 'favorite_movie'), (['best', 'movie'], 'favorite_movie'), (['your', 'favorite', 'movie'], 'favorite_movie'), (['whats', 'your', 'favorite', 'movie'], 'favorite_movie'), (['What', 'think', 'about'], 'your_thoughts'), (['What', 'your', 'thoughts'], 'your_thoughts'), (['i', 'am', 'so', 'scared'], 'fear'), (['that', \"'s\", 'scary'], 'fear'), (['aaaaa'], 'excitement'), (['hkfjj'], 'excitement'), (['gjlfoiodso'], 'excitement'), (['cbbmlkllll'], 'excitement'), (['fieueiioohd'], 'excitement'), (['ohhhhhhhhh'], 'excitement'), (['bbbbb'], 'excitement'), (['cccc'], 'excitement'), (['vvvv'], 'excitement'), (['ddddd'], 'excitement'), (['eeee'], 'excitement'), (['ffff'], 'excitement'), (['ggggg'], 'excitement'), (['hhh'], 'excitement'), (['iiii'], 'excitement'), (['jjjj'], 'excitement'), (['llll'], 'excitement'), (['nnnnn'], 'excitement'), (['pppp'], 'excitement'), (['qqqq'], 'excitement'), (['rrrr'], 'excitement'), (['tttt'], 'excitement'), (['vvvv'], 'excitement'), (['wwww'], 'excitement'), (['xxx'], 'excitement'), (['kkk'], 'character_sp'), (['sss'], 'character_sp'), (['oooo'], 'character_sp'), (['zzzz'], 'character_sl'), (['fine'], 'fine'), (['i', 'am', 'fine'], 'fine'), (['you', 'are', 'cute'], 'cute'), (['you', 'so', 'beautifull'], 'cute'), (['eww'], 'disgust'), (['it', \"'s\", 'so', 'disgusting'], 'disgust'), (['disgust'], 'disgust'), (['disgusting'], 'disgust'), (['it', 'was', 'disgusting'], 'disgust'), (['you', 'are', 'so', 'annoying'], 'angry'), (['you', 'idiot'], 'angry'), ([',', '#', '$', '%', '^', '&'], 'angry'), (['$', '$', '#', '^'], 'angry'), (['%', '%', '$', '#', '^'], 'angry'), (['^', '$', '#', '%'], 'angry'), (['!', '#', '@'], 'angry'), (['i', 'am', 'so', 'ashamed', 'of', 'myself'], 'shame'), (['i', 'am', 'a', 'loser'], 'shame'), (['shame'], 'shame'), (['shame', 'of', 'you'], 'shame'), (['it', \"'s\", 'because', 'of', 'me'], 'guilt'), (['i', 'am', 'the', 'reason'], 'guilt'), (['i', 'am', 'so', 'cruel'], 'guilt'), (['i', 'feel', 'guilty'], 'guilt'), (['guilt'], 'guilt'), (['i', 'am', 'the', 'one', 'to', 'be', 'punished'], 'guilt')]\n",
            "172 documents\n",
            "31 classes ['age', 'angry', 'bad_joke', 'character_sl', 'character_sp', 'cute', 'disgust', 'doing_badly', 'doing_great', 'excitement', 'favorite_movie', 'favorite_show', 'fear', 'fine', 'good_joke', 'goodbye', 'greeting', 'guilt', 'hate', 'how_are_you', 'joke', 'like', 'name', 'netflix', 'quick_run', 'real_bot', 'shame', 'sky_net_no', 'sky_net_yes', 'thanks', 'your_thoughts']\n",
            "182 unique lemmatized words ['#', '$', '%', '&', \"'s\", '@', '^', 'a', 'aaaaa', 'about', 'address', 'age', 'alive', 'am', 'annoying', 'any', 'anyone', 'are', 'ashamed', 'awesome', 'awful', 'bad', 'badly', 'bbbbb', 'be', 'beautifull', 'because', 'best', 'better', 'bye', 'call', 'can', 'cbbmlkllll', 'cccc', 'chatting', 'chill', 'conscious', 'cool', 'cruel', 'cute', 'cya', 'day', 'ddddd', 'disgust', 'disgusting', 'do', 'doe', 'doing', 'dumb', 'eeee', 'eww', 'favorite', 'feel', 'ffff', 'fieueiioohd', 'film', 'fine', 'friend', 'funny', 'fyn', 'ggggg', 'gjlfoiodso', 'glad', 'going', 'good', 'goodbye', 'got', 'great', 'guilt', 'guilty', 'haha', 'hai', 'happy', 'hate', 'have', 'hello', 'helloo', 'hey', 'hhh', 'hi', 'hkfjj', 'hlo', 'hloii', 'horrible', 'how', 'human', 'i', 'idiot', 'iiii', 'im', 'indeed', 'is', 'it', 'jjjj', 'joke', 'kkk', 'later', 'leaving', 'like', 'llll', 'loser', 'love', 'me', 'mean', 'meet', 'movie', 'my', 'myself', \"n't\", 'nah', 'name', 'netflix', 'nice', 'nnnnn', 'no', 'nope', 'not', 'of', 'ohhhhhhhhh', 'okay', 'old', 'on', 'one', 'oooo', 'owe', 'pppp', 'punished', 'qqqq', 'real', 'really', 'reason', 'robot', 'rrrr', 'run', 'sad', 'scared', 'scary', 'see', 'sentient', 'shame', 'should', 'show', 'so', 'ss', 'stupid', 'sup', 'tell', 'terrible', 'thank', 'thanks', 'thankyou', 'that', 'the', 'there', 'think', 'thought', 'to', 'trash', 'tttt', 'tv', 'ty', 'u', 'up', 'very', 'vvvv', 'wa', 'wait', 'watch', 'well', 'what', 'whats', 'why', 'with', 'wwww', 'xxx', 'yeah', 'yep', 'yes', 'you', 'your', 'yup', 'zzzz']\n",
            "Training data created\n",
            "Epoch 1/172\n"
          ]
        },
        {
          "name": "stderr",
          "output_type": "stream",
          "text": [
            "/usr/local/lib/python3.7/dist-packages/ipykernel_launcher.py:70: VisibleDeprecationWarning: Creating an ndarray from ragged nested sequences (which is a list-or-tuple of lists-or-tuples-or ndarrays with different lengths or shapes) is deprecated. If you meant to do this, you must specify 'dtype=object' when creating the ndarray.\n",
            "/usr/local/lib/python3.7/dist-packages/keras/optimizer_v2/gradient_descent.py:102: UserWarning: The `lr` argument is deprecated, use `learning_rate` instead.\n",
            "  super(SGD, self).__init__(name, **kwargs)\n"
          ]
        },
        {
          "name": "stdout",
          "output_type": "stream",
          "text": [
            "35/35 [==============================] - 1s 2ms/step - loss: 3.4296 - accuracy: 0.0640\n",
            "Epoch 2/172\n",
            "35/35 [==============================] - 0s 2ms/step - loss: 3.3193 - accuracy: 0.1628\n",
            "Epoch 3/172\n",
            "35/35 [==============================] - 0s 2ms/step - loss: 3.2258 - accuracy: 0.1453\n",
            "Epoch 4/172\n",
            "35/35 [==============================] - 0s 2ms/step - loss: 3.1379 - accuracy: 0.1570\n",
            "Epoch 5/172\n",
            "35/35 [==============================] - 0s 2ms/step - loss: 3.0834 - accuracy: 0.1744\n",
            "Epoch 6/172\n",
            "35/35 [==============================] - 0s 2ms/step - loss: 2.9909 - accuracy: 0.1860\n",
            "Epoch 7/172\n",
            "35/35 [==============================] - 0s 2ms/step - loss: 2.8844 - accuracy: 0.2035\n",
            "Epoch 8/172\n",
            "35/35 [==============================] - 0s 1ms/step - loss: 2.7354 - accuracy: 0.2267\n",
            "Epoch 9/172\n",
            "35/35 [==============================] - 0s 2ms/step - loss: 2.7042 - accuracy: 0.2558\n",
            "Epoch 10/172\n",
            "35/35 [==============================] - 0s 1ms/step - loss: 2.5654 - accuracy: 0.3140\n",
            "Epoch 11/172\n",
            "35/35 [==============================] - 0s 2ms/step - loss: 2.5039 - accuracy: 0.2965\n",
            "Epoch 12/172\n",
            "35/35 [==============================] - 0s 1ms/step - loss: 2.3396 - accuracy: 0.3256\n",
            "Epoch 13/172\n",
            "35/35 [==============================] - 0s 1ms/step - loss: 2.1742 - accuracy: 0.3779\n",
            "Epoch 14/172\n",
            "35/35 [==============================] - 0s 2ms/step - loss: 2.0665 - accuracy: 0.3895\n",
            "Epoch 15/172\n",
            "35/35 [==============================] - 0s 1ms/step - loss: 2.0218 - accuracy: 0.4070\n",
            "Epoch 16/172\n",
            "35/35 [==============================] - 0s 1ms/step - loss: 1.9238 - accuracy: 0.4884\n",
            "Epoch 17/172\n",
            "35/35 [==============================] - 0s 2ms/step - loss: 1.9421 - accuracy: 0.4302\n",
            "Epoch 18/172\n",
            "35/35 [==============================] - 0s 1ms/step - loss: 1.8179 - accuracy: 0.4709\n",
            "Epoch 19/172\n",
            "35/35 [==============================] - 0s 1ms/step - loss: 1.6786 - accuracy: 0.5116\n",
            "Epoch 20/172\n",
            "35/35 [==============================] - 0s 2ms/step - loss: 1.5334 - accuracy: 0.5523\n",
            "Epoch 21/172\n",
            "35/35 [==============================] - 0s 2ms/step - loss: 1.4610 - accuracy: 0.5349\n",
            "Epoch 22/172\n",
            "35/35 [==============================] - 0s 2ms/step - loss: 1.4705 - accuracy: 0.5814\n",
            "Epoch 23/172\n",
            "35/35 [==============================] - 0s 2ms/step - loss: 1.4104 - accuracy: 0.5640\n",
            "Epoch 24/172\n",
            "35/35 [==============================] - 0s 1ms/step - loss: 1.2918 - accuracy: 0.5872\n",
            "Epoch 25/172\n",
            "35/35 [==============================] - 0s 2ms/step - loss: 1.2285 - accuracy: 0.6279\n",
            "Epoch 26/172\n",
            "35/35 [==============================] - 0s 1ms/step - loss: 1.3060 - accuracy: 0.5930\n",
            "Epoch 27/172\n",
            "35/35 [==============================] - 0s 1ms/step - loss: 1.0777 - accuracy: 0.6686\n",
            "Epoch 28/172\n",
            "35/35 [==============================] - 0s 2ms/step - loss: 1.0459 - accuracy: 0.6744\n",
            "Epoch 29/172\n",
            "35/35 [==============================] - 0s 1ms/step - loss: 1.0802 - accuracy: 0.6977\n",
            "Epoch 30/172\n",
            "35/35 [==============================] - 0s 1ms/step - loss: 0.9593 - accuracy: 0.7849\n",
            "Epoch 31/172\n",
            "35/35 [==============================] - 0s 2ms/step - loss: 0.9476 - accuracy: 0.7093\n",
            "Epoch 32/172\n",
            "35/35 [==============================] - 0s 1ms/step - loss: 0.7917 - accuracy: 0.7907\n",
            "Epoch 33/172\n",
            "35/35 [==============================] - 0s 2ms/step - loss: 0.9507 - accuracy: 0.6860\n",
            "Epoch 34/172\n",
            "35/35 [==============================] - 0s 2ms/step - loss: 0.7698 - accuracy: 0.7733\n",
            "Epoch 35/172\n",
            "35/35 [==============================] - 0s 2ms/step - loss: 0.6771 - accuracy: 0.8140\n",
            "Epoch 36/172\n",
            "35/35 [==============================] - 0s 2ms/step - loss: 0.8096 - accuracy: 0.7616\n",
            "Epoch 37/172\n",
            "35/35 [==============================] - 0s 1ms/step - loss: 0.7655 - accuracy: 0.7267\n",
            "Epoch 38/172\n",
            "35/35 [==============================] - 0s 1ms/step - loss: 0.6778 - accuracy: 0.7733\n",
            "Epoch 39/172\n",
            "35/35 [==============================] - 0s 1ms/step - loss: 0.6230 - accuracy: 0.8198\n",
            "Epoch 40/172\n",
            "35/35 [==============================] - 0s 2ms/step - loss: 0.6067 - accuracy: 0.7965\n",
            "Epoch 41/172\n",
            "35/35 [==============================] - 0s 1ms/step - loss: 0.6987 - accuracy: 0.7558\n",
            "Epoch 42/172\n",
            "35/35 [==============================] - 0s 2ms/step - loss: 0.6682 - accuracy: 0.7791\n",
            "Epoch 43/172\n",
            "35/35 [==============================] - 0s 2ms/step - loss: 0.6540 - accuracy: 0.8023\n",
            "Epoch 44/172\n",
            "35/35 [==============================] - 0s 2ms/step - loss: 0.5452 - accuracy: 0.8488\n",
            "Epoch 45/172\n",
            "35/35 [==============================] - 0s 2ms/step - loss: 0.4904 - accuracy: 0.8430\n",
            "Epoch 46/172\n",
            "35/35 [==============================] - 0s 2ms/step - loss: 0.6226 - accuracy: 0.8198\n",
            "Epoch 47/172\n",
            "35/35 [==============================] - 0s 2ms/step - loss: 0.5391 - accuracy: 0.8372\n",
            "Epoch 48/172\n",
            "35/35 [==============================] - 0s 2ms/step - loss: 0.4735 - accuracy: 0.8663\n",
            "Epoch 49/172\n",
            "35/35 [==============================] - 0s 2ms/step - loss: 0.4263 - accuracy: 0.8721\n",
            "Epoch 50/172\n",
            "35/35 [==============================] - 0s 2ms/step - loss: 0.5118 - accuracy: 0.8372\n",
            "Epoch 51/172\n",
            "35/35 [==============================] - 0s 2ms/step - loss: 0.5428 - accuracy: 0.8488\n",
            "Epoch 52/172\n",
            "35/35 [==============================] - 0s 2ms/step - loss: 0.5423 - accuracy: 0.8488\n",
            "Epoch 53/172\n",
            "35/35 [==============================] - 0s 2ms/step - loss: 0.3782 - accuracy: 0.9012\n",
            "Epoch 54/172\n",
            "35/35 [==============================] - 0s 2ms/step - loss: 0.4329 - accuracy: 0.8605\n",
            "Epoch 55/172\n",
            "35/35 [==============================] - 0s 2ms/step - loss: 0.4181 - accuracy: 0.8721\n",
            "Epoch 56/172\n",
            "35/35 [==============================] - 0s 1ms/step - loss: 0.3873 - accuracy: 0.8779\n",
            "Epoch 57/172\n",
            "35/35 [==============================] - 0s 2ms/step - loss: 0.4104 - accuracy: 0.8721\n",
            "Epoch 58/172\n",
            "35/35 [==============================] - 0s 2ms/step - loss: 0.4690 - accuracy: 0.8605\n",
            "Epoch 59/172\n",
            "35/35 [==============================] - 0s 2ms/step - loss: 0.3391 - accuracy: 0.9186\n",
            "Epoch 60/172\n",
            "35/35 [==============================] - 0s 2ms/step - loss: 0.4234 - accuracy: 0.8663\n",
            "Epoch 61/172\n",
            "35/35 [==============================] - 0s 1ms/step - loss: 0.3352 - accuracy: 0.9244\n",
            "Epoch 62/172\n",
            "35/35 [==============================] - 0s 2ms/step - loss: 0.2872 - accuracy: 0.9012\n",
            "Epoch 63/172\n",
            "35/35 [==============================] - 0s 2ms/step - loss: 0.3602 - accuracy: 0.8779\n",
            "Epoch 64/172\n",
            "35/35 [==============================] - 0s 2ms/step - loss: 0.4262 - accuracy: 0.8779\n",
            "Epoch 65/172\n",
            "35/35 [==============================] - 0s 2ms/step - loss: 0.3734 - accuracy: 0.8837\n",
            "Epoch 66/172\n",
            "35/35 [==============================] - 0s 1ms/step - loss: 0.3360 - accuracy: 0.9070\n",
            "Epoch 67/172\n",
            "35/35 [==============================] - 0s 1ms/step - loss: 0.3733 - accuracy: 0.8895\n",
            "Epoch 68/172\n",
            "35/35 [==============================] - 0s 2ms/step - loss: 0.2973 - accuracy: 0.8953\n",
            "Epoch 69/172\n",
            "35/35 [==============================] - 0s 1ms/step - loss: 0.2882 - accuracy: 0.9302\n",
            "Epoch 70/172\n",
            "35/35 [==============================] - 0s 1ms/step - loss: 0.2988 - accuracy: 0.9012\n",
            "Epoch 71/172\n",
            "35/35 [==============================] - 0s 2ms/step - loss: 0.2834 - accuracy: 0.9128\n",
            "Epoch 72/172\n",
            "35/35 [==============================] - 0s 2ms/step - loss: 0.3336 - accuracy: 0.8779\n",
            "Epoch 73/172\n",
            "35/35 [==============================] - 0s 2ms/step - loss: 0.3796 - accuracy: 0.9012\n",
            "Epoch 74/172\n",
            "35/35 [==============================] - 0s 2ms/step - loss: 0.3231 - accuracy: 0.9244\n",
            "Epoch 75/172\n",
            "35/35 [==============================] - 0s 2ms/step - loss: 0.3513 - accuracy: 0.8605\n",
            "Epoch 76/172\n",
            "35/35 [==============================] - 0s 2ms/step - loss: 0.2528 - accuracy: 0.9128\n",
            "Epoch 77/172\n",
            "35/35 [==============================] - 0s 2ms/step - loss: 0.2308 - accuracy: 0.9419\n",
            "Epoch 78/172\n",
            "35/35 [==============================] - 0s 2ms/step - loss: 0.3445 - accuracy: 0.8953\n",
            "Epoch 79/172\n",
            "35/35 [==============================] - 0s 3ms/step - loss: 0.2552 - accuracy: 0.9070\n",
            "Epoch 80/172\n",
            "35/35 [==============================] - 0s 2ms/step - loss: 0.2823 - accuracy: 0.9302\n",
            "Epoch 81/172\n",
            "35/35 [==============================] - 0s 2ms/step - loss: 0.2769 - accuracy: 0.9128\n",
            "Epoch 82/172\n",
            "35/35 [==============================] - 0s 2ms/step - loss: 0.2845 - accuracy: 0.8953\n",
            "Epoch 83/172\n",
            "35/35 [==============================] - 0s 2ms/step - loss: 0.2902 - accuracy: 0.9419\n",
            "Epoch 84/172\n",
            "35/35 [==============================] - 0s 2ms/step - loss: 0.2359 - accuracy: 0.9302\n",
            "Epoch 85/172\n",
            "35/35 [==============================] - 0s 2ms/step - loss: 0.2473 - accuracy: 0.9128\n",
            "Epoch 86/172\n",
            "35/35 [==============================] - 0s 2ms/step - loss: 0.2528 - accuracy: 0.9244\n",
            "Epoch 87/172\n",
            "35/35 [==============================] - 0s 2ms/step - loss: 0.2689 - accuracy: 0.9070\n",
            "Epoch 88/172\n",
            "35/35 [==============================] - 0s 2ms/step - loss: 0.2080 - accuracy: 0.9535\n",
            "Epoch 89/172\n",
            "35/35 [==============================] - 0s 1ms/step - loss: 0.2102 - accuracy: 0.9360\n",
            "Epoch 90/172\n",
            "35/35 [==============================] - 0s 1ms/step - loss: 0.1905 - accuracy: 0.9302\n",
            "Epoch 91/172\n",
            "35/35 [==============================] - 0s 2ms/step - loss: 0.2365 - accuracy: 0.9012\n",
            "Epoch 92/172\n",
            "35/35 [==============================] - 0s 2ms/step - loss: 0.2254 - accuracy: 0.9360\n",
            "Epoch 93/172\n",
            "35/35 [==============================] - 0s 2ms/step - loss: 0.1936 - accuracy: 0.9419\n",
            "Epoch 94/172\n",
            "35/35 [==============================] - 0s 1ms/step - loss: 0.2034 - accuracy: 0.9302\n",
            "Epoch 95/172\n",
            "35/35 [==============================] - 0s 2ms/step - loss: 0.2279 - accuracy: 0.9128\n",
            "Epoch 96/172\n",
            "35/35 [==============================] - 0s 2ms/step - loss: 0.2306 - accuracy: 0.9244\n",
            "Epoch 97/172\n",
            "35/35 [==============================] - 0s 2ms/step - loss: 0.2620 - accuracy: 0.9128\n",
            "Epoch 98/172\n",
            "35/35 [==============================] - 0s 2ms/step - loss: 0.1374 - accuracy: 0.9651\n",
            "Epoch 99/172\n",
            "35/35 [==============================] - 0s 2ms/step - loss: 0.1616 - accuracy: 0.9535\n",
            "Epoch 100/172\n",
            "35/35 [==============================] - 0s 1ms/step - loss: 0.2400 - accuracy: 0.9128\n",
            "Epoch 101/172\n",
            "35/35 [==============================] - 0s 1ms/step - loss: 0.2062 - accuracy: 0.9419\n",
            "Epoch 102/172\n",
            "35/35 [==============================] - 0s 1ms/step - loss: 0.1640 - accuracy: 0.9535\n",
            "Epoch 103/172\n",
            "35/35 [==============================] - 0s 2ms/step - loss: 0.1887 - accuracy: 0.9593\n",
            "Epoch 104/172\n",
            "35/35 [==============================] - 0s 2ms/step - loss: 0.2171 - accuracy: 0.9302\n",
            "Epoch 105/172\n",
            "35/35 [==============================] - 0s 2ms/step - loss: 0.1862 - accuracy: 0.9477\n",
            "Epoch 106/172\n",
            "35/35 [==============================] - 0s 2ms/step - loss: 0.1680 - accuracy: 0.9593\n",
            "Epoch 107/172\n",
            "35/35 [==============================] - 0s 2ms/step - loss: 0.2337 - accuracy: 0.9244\n",
            "Epoch 108/172\n",
            "35/35 [==============================] - 0s 2ms/step - loss: 0.1705 - accuracy: 0.9419\n",
            "Epoch 109/172\n",
            "35/35 [==============================] - 0s 1ms/step - loss: 0.2219 - accuracy: 0.9244\n",
            "Epoch 110/172\n",
            "35/35 [==============================] - 0s 2ms/step - loss: 0.1930 - accuracy: 0.9244\n",
            "Epoch 111/172\n",
            "35/35 [==============================] - 0s 1ms/step - loss: 0.2027 - accuracy: 0.9186\n",
            "Epoch 112/172\n",
            "35/35 [==============================] - 0s 1ms/step - loss: 0.2096 - accuracy: 0.9186\n",
            "Epoch 113/172\n",
            "35/35 [==============================] - 0s 1ms/step - loss: 0.1337 - accuracy: 0.9535\n",
            "Epoch 114/172\n",
            "35/35 [==============================] - 0s 2ms/step - loss: 0.1774 - accuracy: 0.9419\n",
            "Epoch 115/172\n",
            "35/35 [==============================] - 0s 2ms/step - loss: 0.1456 - accuracy: 0.9651\n",
            "Epoch 116/172\n",
            "35/35 [==============================] - 0s 1ms/step - loss: 0.1476 - accuracy: 0.9709\n",
            "Epoch 117/172\n",
            "35/35 [==============================] - 0s 2ms/step - loss: 0.2548 - accuracy: 0.9128\n",
            "Epoch 118/172\n",
            "35/35 [==============================] - 0s 2ms/step - loss: 0.2236 - accuracy: 0.9012\n",
            "Epoch 119/172\n",
            "35/35 [==============================] - 0s 2ms/step - loss: 0.1905 - accuracy: 0.9419\n",
            "Epoch 120/172\n",
            "35/35 [==============================] - 0s 1ms/step - loss: 0.2167 - accuracy: 0.9302\n",
            "Epoch 121/172\n",
            "35/35 [==============================] - 0s 1ms/step - loss: 0.2443 - accuracy: 0.8895\n",
            "Epoch 122/172\n",
            "35/35 [==============================] - 0s 2ms/step - loss: 0.1367 - accuracy: 0.9593\n",
            "Epoch 123/172\n",
            "35/35 [==============================] - 0s 1ms/step - loss: 0.1807 - accuracy: 0.9477\n",
            "Epoch 124/172\n",
            "35/35 [==============================] - 0s 1ms/step - loss: 0.1716 - accuracy: 0.9651\n",
            "Epoch 125/172\n",
            "35/35 [==============================] - 0s 1ms/step - loss: 0.1599 - accuracy: 0.9360\n",
            "Epoch 126/172\n",
            "35/35 [==============================] - 0s 2ms/step - loss: 0.1607 - accuracy: 0.9419\n",
            "Epoch 127/172\n",
            "35/35 [==============================] - 0s 2ms/step - loss: 0.2197 - accuracy: 0.9186\n",
            "Epoch 128/172\n",
            "35/35 [==============================] - 0s 1ms/step - loss: 0.1528 - accuracy: 0.9593\n",
            "Epoch 129/172\n",
            "35/35 [==============================] - 0s 2ms/step - loss: 0.1592 - accuracy: 0.9419\n",
            "Epoch 130/172\n",
            "35/35 [==============================] - 0s 2ms/step - loss: 0.1446 - accuracy: 0.9535\n",
            "Epoch 131/172\n",
            "35/35 [==============================] - 0s 2ms/step - loss: 0.1464 - accuracy: 0.9477\n",
            "Epoch 132/172\n",
            "35/35 [==============================] - 0s 2ms/step - loss: 0.1206 - accuracy: 0.9651\n",
            "Epoch 133/172\n",
            "35/35 [==============================] - 0s 2ms/step - loss: 0.1775 - accuracy: 0.9302\n",
            "Epoch 134/172\n",
            "35/35 [==============================] - 0s 2ms/step - loss: 0.2178 - accuracy: 0.9128\n",
            "Epoch 135/172\n",
            "35/35 [==============================] - 0s 2ms/step - loss: 0.1779 - accuracy: 0.9419\n",
            "Epoch 136/172\n",
            "35/35 [==============================] - 0s 2ms/step - loss: 0.1962 - accuracy: 0.9360\n",
            "Epoch 137/172\n",
            "35/35 [==============================] - 0s 2ms/step - loss: 0.1306 - accuracy: 0.9593\n",
            "Epoch 138/172\n",
            "35/35 [==============================] - 0s 2ms/step - loss: 0.0983 - accuracy: 0.9826\n",
            "Epoch 139/172\n",
            "35/35 [==============================] - 0s 2ms/step - loss: 0.1142 - accuracy: 0.9593\n",
            "Epoch 140/172\n",
            "35/35 [==============================] - 0s 2ms/step - loss: 0.1491 - accuracy: 0.9419\n",
            "Epoch 141/172\n",
            "35/35 [==============================] - 0s 2ms/step - loss: 0.0830 - accuracy: 0.9884\n",
            "Epoch 142/172\n",
            "35/35 [==============================] - 0s 2ms/step - loss: 0.1505 - accuracy: 0.9593\n",
            "Epoch 143/172\n",
            "35/35 [==============================] - 0s 2ms/step - loss: 0.1826 - accuracy: 0.9593\n",
            "Epoch 144/172\n",
            "35/35 [==============================] - 0s 2ms/step - loss: 0.1430 - accuracy: 0.9477\n",
            "Epoch 145/172\n",
            "35/35 [==============================] - 0s 2ms/step - loss: 0.2284 - accuracy: 0.9302\n",
            "Epoch 146/172\n",
            "35/35 [==============================] - 0s 2ms/step - loss: 0.1732 - accuracy: 0.9302\n",
            "Epoch 147/172\n",
            "35/35 [==============================] - 0s 2ms/step - loss: 0.1474 - accuracy: 0.9593\n",
            "Epoch 148/172\n",
            "35/35 [==============================] - 0s 2ms/step - loss: 0.0882 - accuracy: 0.9709\n",
            "Epoch 149/172\n",
            "35/35 [==============================] - 0s 2ms/step - loss: 0.1178 - accuracy: 0.9593\n",
            "Epoch 150/172\n",
            "35/35 [==============================] - 0s 2ms/step - loss: 0.1915 - accuracy: 0.9419\n",
            "Epoch 151/172\n",
            "35/35 [==============================] - 0s 2ms/step - loss: 0.1299 - accuracy: 0.9477\n",
            "Epoch 152/172\n",
            "35/35 [==============================] - 0s 2ms/step - loss: 0.1955 - accuracy: 0.9535\n",
            "Epoch 153/172\n",
            "35/35 [==============================] - 0s 1ms/step - loss: 0.1293 - accuracy: 0.9651\n",
            "Epoch 154/172\n",
            "35/35 [==============================] - 0s 1ms/step - loss: 0.1211 - accuracy: 0.9709\n",
            "Epoch 155/172\n",
            "35/35 [==============================] - 0s 2ms/step - loss: 0.1618 - accuracy: 0.9244\n",
            "Epoch 156/172\n",
            "35/35 [==============================] - 0s 1ms/step - loss: 0.1892 - accuracy: 0.9244\n",
            "Epoch 157/172\n",
            "35/35 [==============================] - 0s 1ms/step - loss: 0.1055 - accuracy: 0.9593\n",
            "Epoch 158/172\n",
            "35/35 [==============================] - 0s 1ms/step - loss: 0.1474 - accuracy: 0.9477\n",
            "Epoch 159/172\n",
            "35/35 [==============================] - 0s 2ms/step - loss: 0.1948 - accuracy: 0.9186\n",
            "Epoch 160/172\n",
            "35/35 [==============================] - 0s 2ms/step - loss: 0.1182 - accuracy: 0.9535\n",
            "Epoch 161/172\n",
            "35/35 [==============================] - 0s 2ms/step - loss: 0.1280 - accuracy: 0.9709\n",
            "Epoch 162/172\n",
            "35/35 [==============================] - 0s 2ms/step - loss: 0.1485 - accuracy: 0.9419\n",
            "Epoch 163/172\n",
            "35/35 [==============================] - 0s 1ms/step - loss: 0.1821 - accuracy: 0.9186\n",
            "Epoch 164/172\n",
            "35/35 [==============================] - 0s 2ms/step - loss: 0.1159 - accuracy: 0.9709\n",
            "Epoch 165/172\n",
            "35/35 [==============================] - 0s 2ms/step - loss: 0.1097 - accuracy: 0.9535\n",
            "Epoch 166/172\n",
            "35/35 [==============================] - 0s 1ms/step - loss: 0.1252 - accuracy: 0.9593\n",
            "Epoch 167/172\n",
            "35/35 [==============================] - 0s 2ms/step - loss: 0.1854 - accuracy: 0.9244\n",
            "Epoch 168/172\n",
            "35/35 [==============================] - 0s 2ms/step - loss: 0.1355 - accuracy: 0.9477\n",
            "Epoch 169/172\n",
            "35/35 [==============================] - 0s 1ms/step - loss: 0.1500 - accuracy: 0.9360\n",
            "Epoch 170/172\n",
            "35/35 [==============================] - 0s 2ms/step - loss: 0.1886 - accuracy: 0.9302\n",
            "Epoch 171/172\n",
            "35/35 [==============================] - 0s 2ms/step - loss: 0.1255 - accuracy: 0.9593\n",
            "Epoch 172/172\n",
            "35/35 [==============================] - 0s 1ms/step - loss: 0.1343 - accuracy: 0.9477\n",
            "model created\n"
          ]
        }
      ],
      "source": [
        "import numpy as np\n",
        "from keras.models import Sequential\n",
        "from keras.layers import Dense, Activation, Dropout\n",
        "# from keras.optimizers import SGD\n",
        "from tensorflow.keras.optimizers import SGD\n",
        "import random\n",
        "\n",
        "import nltk\n",
        "from nltk.stem import WordNetLemmatizer\n",
        "lemmatizer = WordNetLemmatizer()\n",
        "import json\n",
        "import pickle\n",
        "\n",
        "words=[]\n",
        "classes = []\n",
        "documents = []\n",
        "ignore_letters = ['!', '?', ',', '.']\n",
        "intents_file = open('/content/drive/MyDrive/Colab Notebooks/intents.json').read()\n",
        "intents = json.loads(intents_file)\n",
        "\n",
        "for intent in intents['intents']:\n",
        "    for pattern in intent['patterns']:\n",
        "        #tokenize each word\n",
        "        word = nltk.word_tokenize(pattern)\n",
        "        words.extend(word)\n",
        "        #add documents in the corpus\n",
        "        documents.append((word, intent['tag']))\n",
        "        # add to our classes list\n",
        "        if intent['tag'] not in classes:\n",
        "            classes.append(intent['tag'])\n",
        "print(documents)\n",
        "# lemmaztize and lower each word and remove duplicates\n",
        "words = [lemmatizer.lemmatize(w.lower()) for w in words if w not in ignore_letters]\n",
        "words = sorted(list(set(words)))\n",
        "# sort classes\n",
        "classes = sorted(list(set(classes)))\n",
        "# documents = combination between patterns and intents\n",
        "print (len(documents), \"documents\")\n",
        "# classes = intents\n",
        "print (len(classes), \"classes\", classes)\n",
        "# words = all words, vocabulary\n",
        "print (len(words), \"unique lemmatized words\", words)\n",
        "\n",
        "pickle.dump(words,open('words.pkl','wb'))\n",
        "pickle.dump(classes,open('classes.pkl','wb'))\n",
        "\n",
        "# create our training data\n",
        "training = []\n",
        "# create an empty array for our output\n",
        "output_empty = [0] * len(classes)\n",
        "# training set, bag of words for each sentence\n",
        "for doc in documents:\n",
        "    # initialize our bag of words\n",
        "    bag = []\n",
        "    # list of tokenized words for the pattern\n",
        "    pattern_words = doc[0]\n",
        "    # lemmatize each word - create base word, in attempt to represent related words\n",
        "    pattern_words = [lemmatizer.lemmatize(word.lower()) for word in pattern_words]\n",
        "    # create our bag of words array with 1, if word match found in current pattern\n",
        "    for word in words:\n",
        "        bag.append(1) if word in pattern_words else bag.append(0)\n",
        "        \n",
        "    # output is a '0' for each tag and '1' for current tag (for each pattern)\n",
        "    output_row = list(output_empty)\n",
        "    output_row[classes.index(doc[1])] = 1\n",
        "    \n",
        "    training.append([bag, output_row])\n",
        "# shuffle our features and turn into np.array\n",
        "random.shuffle(training)\n",
        "training = np.array(training)\n",
        "# create train and test lists. X - patterns, Y - intents\n",
        "train_x = list(training[:,0])\n",
        "train_y = list(training[:,1])\n",
        "print(\"Training data created\")\n",
        "\n",
        "# Create model - 3 layers. First layer 128 neurons, second layer 64 neurons and 3rd output layer contains number of neurons\n",
        "# equal to number of intents to predict output intent with softmax\n",
        "model = Sequential()\n",
        "model.add(Dense(128, input_shape=(len(train_x[0]),), activation='relu'))\n",
        "model.add(Dropout(0.5))\n",
        "model.add(Dense(64, activation='relu'))\n",
        "model.add(Dropout(0.5))\n",
        "model.add(Dense(len(train_y[0]), activation='softmax'))\n",
        "\n",
        "# Compile model. Stochastic gradient descent with Nesterov accelerated gradient gives good results for this model\n",
        "sgd = SGD(lr=0.01, decay=1e-6, momentum=0.9, nesterov=True)\n",
        "model.compile(loss='categorical_crossentropy', optimizer=sgd, metrics=['accuracy'])\n",
        "\n",
        "#fitting and saving the model \n",
        "hist = model.fit(np.array(train_x), np.array(train_y), epochs=172, batch_size=5, verbose=1)\n",
        "model.save('chatbot_model.h5', hist)\n",
        "\n",
        "print(\"model created\")"
      ]
    },
    {
      "cell_type": "code",
      "execution_count": null,
      "metadata": {
        "id": "CpYDixtEhgGZ"
      },
      "outputs": [],
      "source": [
        "import anvil.server"
      ]
    },
    {
      "cell_type": "code",
      "execution_count": null,
      "metadata": {
        "id": "V3QMp1anhiKB"
      },
      "outputs": [],
      "source": [
        "anvil.server.connect(uplink_key)"
      ]
    },
    {
      "cell_type": "code",
      "execution_count": null,
      "metadata": {
        "id": "yLZKraGLpUoq"
      },
      "outputs": [],
      "source": [
        "msg = list()\n",
        "text = str()"
      ]
    },
    {
      "cell_type": "code",
      "execution_count": null,
      "metadata": {
        "id": "jY-qqSlY8ifi"
      },
      "outputs": [],
      "source": [
        "@anvil.server.callable\n",
        "def responsed(msg1):\n",
        "    #print(\"response\")\n",
        "    msg.append(msg1)\n",
        "    ints = predict_class(msg1)\n",
        "    res = getResponse(ints, intents)\n",
        "    return res"
      ]
    },
    {
      "cell_type": "code",
      "execution_count": null,
      "metadata": {
        "id": "deibzvJ8WtXw"
      },
      "outputs": [],
      "source": [
        "# # IBM Tone analyzer\n",
        "# import json\n",
        "# from ibm_watson import ToneAnalyzerV3\n",
        "# from ibm_cloud_sdk_core.authenticators import IAMAuthenticator\n",
        "\n",
        "# authenticator = IAMAuthenticator(api_key)\n",
        "# tone_analyzer = ToneAnalyzerV3(\n",
        "#     version='2017-09-21',\n",
        "#     authenticator=authenticator\n",
        "# )\n",
        "\n",
        "# tone_analyzer.set_service_url(https://api.eu-gb.tone-analyzer.watson.cloud.ibm.com/instances/api_key)\n",
        "# text = \" \"\n",
        "# for i in msg:\n",
        "#     text = text+i\n",
        "# tone_analysis = tone_analyzer.tone(\n",
        "#     {'text': text},\n",
        "#     content_type='application/json'\n",
        "# ).get_result()\n",
        "# print(json.dumps(tone_analysis, indent=2))"
      ]
    },
    {
      "cell_type": "code",
      "execution_count": null,
      "metadata": {
        "id": "CAU4yig57NxI"
      },
      "outputs": [],
      "source": [
        "api_key=\"d750a0e2d5cc68b782de3c02c4100616\""
      ]
    },
    {
      "cell_type": "code",
      "execution_count": null,
      "metadata": {
        "id": "StHSsHWQk20Q"
      },
      "outputs": [],
      "source": [
        "@anvil.server.callable\n",
        "def song_emotion():\n",
        "    #authenticator = IAMAuthenticator(api_key)\n",
        "   # tone_analyzer = ToneAnalyzerV3(\n",
        "     #   version='2017-09-21',\n",
        "     #   authenticator=authenticator\n",
        "    \n",
        "    #)\n",
        "\n",
        "    #tone_analyzer.set_service_url(https://api.eu-gb.tone-analyzer.watson.cloud.ibm.com/instances/api_key)\n",
        "    # text = \"\"\n",
        "    # for i in msg:\n",
        "    #     text = text+i\n",
        "    len1 = len(msg)    \n",
        "    textData = msg[len1-5]+\". \"+msg[len1-4]+\". \"+msg[len1-3]+\". \"+msg[len1-2]+\". \"+msg[len1-1]\n",
        "    data=te.get_emotion(textData)\n",
        "    emotion=max(data,key=data.get)\n",
        "   # print(\"Data Emotion:\"+emotion)\n",
        "\n",
        "    emoji_dict = {\"joy\":\"Happy\", \"fear\":\"Fear\", \"anger\":\"Angry\", \"sadness\":\"Sad\", \"disgust\":\"Disgust\", \"shame\":\"Shame\", \"guilt\":\"Guilt\"}\n",
        "    texts = [textData]\n",
        "    emotion_counter={\"joy\":0, \"fear\":0, \"anger\":0, \"sadness\":0, \"disgust\":0, \"shame\":0, \"guilt\":0}\n",
        "    for text in msg: \n",
        "        features = create_feature(text, nrange=(1, 4))\n",
        "        features = vectorizer.transform(features)\n",
        "        prediction = clf.predict(features)[0]\n",
        "        #print(text,emoji_dict[prediction])\n",
        "        emotion_=emoji_dict[prediction]\n",
        "        if emotion_.lower()==\"Happy\".lower():\n",
        "            emotion_counter[\"joy\"]=emotion_counter[\"joy\"]+1\n",
        "        elif emotion_.lower()==\"Fear\".lower():\n",
        "            emotion_counter[\"fear\"]=emotion_counter[\"fear\"]+1\n",
        "        elif emotion_.lower()==\"Angry\".lower():\n",
        "            emotion_counter[\"anger\"]=emotion_counter[\"anger\"]+1\n",
        "        elif emotion_.lower()==\"Sad\".lower():\n",
        "            emotion_counter[\"sadness\"]=emotion_counter[\"sadness\"]+1\n",
        "        elif emotion_.lower()==\"Disgist\".lower():\n",
        "            emotion_counter[\"disgust\"]=emotion_counter[\"disgust\"]+1\n",
        "        elif emotion_.lower()==\"Shame\".lower():\n",
        "            emotion_counter[\"shame\"]=emotion_counter[\"shame\"]+1\n",
        "        elif emotion_.lower()==\"Guilt\".lower():\n",
        "            emotion_counter[\"guilt\"]=emotion_counter[\"guilt\"]+1\n",
        "\n",
        "    #print(emotion_counter)\n",
        "    emotion_print=max(emotion_counter,key=emotion_counter.get)\n",
        "    print(emotion)\n",
        "    dic1 = dict()\n",
        "    dic1['emotion'] = emotion\n",
        "    import requests\n",
        "\n",
        "    url=f\"http://ws.audioscrobbler.com/2.0/?method=tag.gettoptracks&tag={emotion}&api_key={api_key}&format=json&limit=10\"\n",
        "    response = requests.get(url)\n",
        "    payload = response.json()\n",
        "    for i in range(10):\n",
        "        r=payload['tracks']['track'][i]\n",
        "        dic1[r['name']] = r['url']\n",
        "    return dic1"
      ]
    },
    {
      "cell_type": "code",
      "execution_count": null,
      "metadata": {
        "id": "OEPKjkc11vSV"
      },
      "outputs": [],
      "source": [
        "def read_data(file):\n",
        "    data = []\n",
        "    with open('/content/drive/MyDrive/Colab Notebooks/text.txt', 'r')as f:\n",
        "        for line in f:\n",
        "            line = line.strip()\n",
        "            label = ' '.join(line[1:line.find(\"]\")].strip().split())\n",
        "            text = line[line.find(\"]\")+1:].strip()\n",
        "            data.append([label, text])\n",
        "    return data"
      ]
    },
    {
      "cell_type": "code",
      "execution_count": null,
      "metadata": {
        "colab": {
          "base_uri": "https://localhost:8080/"
        },
        "id": "guF2W-7Q11Df",
        "outputId": "d0a87922-d126-474f-ba29-1cc308ca585f"
      },
      "outputs": [
        {
          "name": "stdout",
          "output_type": "stream",
          "text": [
            "Number of instances: 7480\n"
          ]
        }
      ],
      "source": [
        "file = open('/content/drive/MyDrive/Colab Notebooks/text.txt')\n",
        "data = read_data(file)\n",
        "print(\"Number of instances: {}\".format(len(data)))"
      ]
    },
    {
      "cell_type": "code",
      "execution_count": null,
      "metadata": {
        "id": "ZMAphU6y2EIe"
      },
      "outputs": [],
      "source": [
        "def ngram(token, n): \n",
        "    output = []\n",
        "    for i in range(n-1, len(token)): \n",
        "        ngram = ' '.join(token[i-n+1:i+1])\n",
        "        output.append(ngram) \n",
        "    return output"
      ]
    },
    {
      "cell_type": "code",
      "execution_count": null,
      "metadata": {
        "id": "T6BQm8qK2J2h"
      },
      "outputs": [],
      "source": [
        "def create_feature(text, nrange=(1, 1)):\n",
        "    text_features = [] \n",
        "    text = text.lower() \n",
        "    text_alphanum = re.sub('[^a-z0-9#]', ' ', text)\n",
        "    for n in range(nrange[0], nrange[1]+1): \n",
        "        text_features += ngram(text_alphanum.split(), n)    \n",
        "    text_punc = re.sub('[a-z0-9]', ' ', text)\n",
        "    text_features += ngram(text_punc.split(), 1)\n",
        "    return Counter(text_features)"
      ]
    },
    {
      "cell_type": "code",
      "execution_count": null,
      "metadata": {
        "id": "xknGPXUL2P2k"
      },
      "outputs": [],
      "source": [
        "def convert_label(item, name): \n",
        "    items = list(map(float, item.split()))\n",
        "    label = \"\"\n",
        "    for idx in range(len(items)): \n",
        "        if items[idx] == 1: \n",
        "            label += name[idx] + \" \"\n",
        "    \n",
        "    return label.strip()"
      ]
    },
    {
      "cell_type": "code",
      "execution_count": null,
      "metadata": {
        "id": "9Ywcra962VK4"
      },
      "outputs": [],
      "source": [
        "emotions = [\"joy\", 'fear', \"anger\", \"sadness\", \"disgust\", \"shame\", \"guilt\"]"
      ]
    },
    {
      "cell_type": "code",
      "execution_count": null,
      "metadata": {
        "colab": {
          "base_uri": "https://localhost:8080/",
          "height": 235
        },
        "id": "fFoP20qu2RfZ",
        "outputId": "ebe64674-9ab8-489e-c545-3f46a4a0c275"
      },
      "outputs": [
        {
          "ename": "NameError",
          "evalue": "ignored",
          "output_type": "error",
          "traceback": [
            "\u001b[0;31m---------------------------------------------------------------------------\u001b[0m",
            "\u001b[0;31mNameError\u001b[0m                                 Traceback (most recent call last)",
            "\u001b[0;32m<ipython-input-1-5831f9ffa414>\u001b[0m in \u001b[0;36m<module>\u001b[0;34m()\u001b[0m\n\u001b[1;32m      1\u001b[0m \u001b[0mX_all\u001b[0m \u001b[0;34m=\u001b[0m \u001b[0;34m[\u001b[0m\u001b[0;34m]\u001b[0m\u001b[0;34m\u001b[0m\u001b[0;34m\u001b[0m\u001b[0m\n\u001b[1;32m      2\u001b[0m \u001b[0my_all\u001b[0m \u001b[0;34m=\u001b[0m \u001b[0;34m[\u001b[0m\u001b[0;34m]\u001b[0m\u001b[0;34m\u001b[0m\u001b[0;34m\u001b[0m\u001b[0m\n\u001b[0;32m----> 3\u001b[0;31m \u001b[0;32mfor\u001b[0m \u001b[0mlabel\u001b[0m\u001b[0;34m,\u001b[0m \u001b[0mtext\u001b[0m \u001b[0;32min\u001b[0m \u001b[0mdata\u001b[0m\u001b[0;34m:\u001b[0m\u001b[0;34m\u001b[0m\u001b[0;34m\u001b[0m\u001b[0m\n\u001b[0m\u001b[1;32m      4\u001b[0m     \u001b[0my_all\u001b[0m\u001b[0;34m.\u001b[0m\u001b[0mappend\u001b[0m\u001b[0;34m(\u001b[0m\u001b[0mconvert_label\u001b[0m\u001b[0;34m(\u001b[0m\u001b[0mlabel\u001b[0m\u001b[0;34m,\u001b[0m \u001b[0memotions\u001b[0m\u001b[0;34m)\u001b[0m\u001b[0;34m)\u001b[0m\u001b[0;34m\u001b[0m\u001b[0;34m\u001b[0m\u001b[0m\n\u001b[1;32m      5\u001b[0m     \u001b[0mX_all\u001b[0m\u001b[0;34m.\u001b[0m\u001b[0mappend\u001b[0m\u001b[0;34m(\u001b[0m\u001b[0mcreate_feature\u001b[0m\u001b[0;34m(\u001b[0m\u001b[0mtext\u001b[0m\u001b[0;34m,\u001b[0m \u001b[0mnrange\u001b[0m\u001b[0;34m=\u001b[0m\u001b[0;34m(\u001b[0m\u001b[0;36m1\u001b[0m\u001b[0;34m,\u001b[0m \u001b[0;36m4\u001b[0m\u001b[0;34m)\u001b[0m\u001b[0;34m)\u001b[0m\u001b[0;34m)\u001b[0m\u001b[0;34m\u001b[0m\u001b[0;34m\u001b[0m\u001b[0m\n",
            "\u001b[0;31mNameError\u001b[0m: name 'data' is not defined"
          ]
        }
      ],
      "source": [
        "X_all = []\n",
        "y_all = []\n",
        "for label, text in data:\n",
        "    y_all.append(convert_label(label, emotions))\n",
        "    X_all.append(create_feature(text, nrange=(1, 4)))\n",
        "\n",
        "X_train, X_test, y_train, y_test = train_test_split(X_all, y_all, test_size = 0.2, random_state = 123)"
      ]
    },
    {
      "cell_type": "code",
      "execution_count": null,
      "metadata": {
        "id": "z3NpK2322mf-"
      },
      "outputs": [],
      "source": [
        "\n",
        "def train_test(clf, X_train, X_test, y_train, y_test):\n",
        "    clf.fit(X_train, y_train)\n",
        "    train_acc = accuracy_score(y_train, clf.predict(X_train))\n",
        "    test_acc = accuracy_score(y_test, clf.predict(X_test))\n",
        "    return train_acc, test_acc"
      ]
    },
    {
      "cell_type": "code",
      "execution_count": null,
      "metadata": {
        "id": "XN8MVZCb28P6"
      },
      "outputs": [],
      "source": [
        "from sklearn.feature_extraction import DictVectorizer\n",
        "vectorizer = DictVectorizer(sparse = True)\n",
        "X_train = vectorizer.fit_transform(X_train)\n",
        "X_test = vectorizer.transform(X_test)"
      ]
    },
    {
      "cell_type": "code",
      "execution_count": null,
      "metadata": {
        "id": "MCCo2QyD3IUq"
      },
      "outputs": [],
      "source": [
        "svc = SVC()\n",
        "rforest = RandomForestClassifier(random_state=123)"
      ]
    },
    {
      "cell_type": "code",
      "execution_count": null,
      "metadata": {
        "colab": {
          "base_uri": "https://localhost:8080/"
        },
        "id": "vXjAWjfa3SPv",
        "outputId": "cf3d7a49-30b5-4312-bb9d-45cd63752b52"
      },
      "outputs": [
        {
          "name": "stdout",
          "output_type": "stream",
          "text": [
            "| Classifier                | Training Accuracy | Test Accuracy |\n",
            "| ------------------------- | ----------------- | ------------- |\n",
            "| SVC                       |         0.9067513 |     0.4512032 |\n",
            "joy       (1. 0. 0. 0. 0. 0. 0.)  1084\n",
            "anger     (0. 0. 1. 0. 0. 0. 0.)  1080\n",
            "sadness   (0. 0. 0. 1. 0. 0. 0.)  1079\n",
            "fear      (0. 1. 0. 0. 0. 0. 0.)  1078\n",
            "disgust   (0. 0. 0. 0. 1. 0. 0.)  1057\n",
            "guilt     (0. 0. 0. 0. 0. 0. 1.)  1057\n",
            "shame     (0. 0. 0. 0. 0. 1. 0.)  1045\n"
          ]
        }
      ],
      "source": [
        "clifs = [svc]\n",
        "\n",
        "# train and test them \n",
        "print(\"| {:25} | {} | {} |\".format(\"Classifier\", \"Training Accuracy\", \"Test Accuracy\"))\n",
        "print(\"| {} | {} | {} |\".format(\"-\"*25, \"-\"*17, \"-\"*13))\n",
        "for clf in clifs: \n",
        "    clf_name = clf.__class__.__name__\n",
        "    train_acc, test_acc = train_test(clf, X_train, X_test, y_train, y_test)\n",
        "    print(\"| {:25} | {:17.7f} | {:13.7f} |\".format(clf_name, train_acc, test_acc))\n",
        "\n",
        "l = [\"joy\", 'fear', \"anger\", \"sadness\", \"disgust\", \"shame\", \"guilt\"]\n",
        "l.sort()\n",
        "label_freq = {}\n",
        "for label, _ in data: \n",
        "    label_freq[label] = label_freq.get(label, 0) + 1\n",
        "\n",
        "# print the labels and their counts in sorted order \n",
        "for l in sorted(label_freq, key=label_freq.get, reverse=True):\n",
        "    print(\"{:10}({})  {}\".format(convert_label(l, emotions), l, label_freq[l]))\n",
        "\n"
      ]
    },
    {
      "cell_type": "code",
      "execution_count": null,
      "metadata": {
        "colab": {
          "base_uri": "https://localhost:8080/",
          "height": 501
        },
        "id": "9NmNj_qN3cJx",
        "outputId": "8714381c-3547-4b32-f457-2546f1ff0118"
      },
      "outputs": [
        {
          "name": "stdout",
          "output_type": "stream",
          "text": [
            "Chatbot : Hey there, Wassup ?\n",
            "User : hello\n",
            "[0 0 0 0 0 0 0 0 0 0 0 0 0 0 0 0 0 0 0 0 0 0 0 0 0 0 0 0 0 0 0 0 0 0 0 0 0\n",
            " 0 0 0 0 0 0 0 0 0 0 0 0 0 0 0 0 0 0 0 0 0 0 0 0 0 0 0 0 0 0 0 0 0 0 0 0 0\n",
            " 0 1 0 0 0 0 0 0 0 0 0 0 0 0 0 0 0 0 0 0 0 0 0 0 0 0 0 0 0 0 0 0 0 0 0 0 0\n",
            " 0 0 0 0 0 0 0 0 0 0 0 0 0 0 0 0 0 0 0 0 0 0 0 0 0 0 0 0 0 0 0 0 0 0 0 0 0\n",
            " 0 0 0 0 0 0 0 0 0 0 0 0 0 0 0 0 0 0 0 0 0 0 0 0 0 0 0 0 0 0 0 0 0 0]\n"
          ]
        },
        {
          "ename": "ValueError",
          "evalue": "ignored",
          "output_type": "error",
          "traceback": [
            "\u001b[0;31m---------------------------------------------------------------------------\u001b[0m",
            "\u001b[0;31mValueError\u001b[0m                                Traceback (most recent call last)",
            "\u001b[0;32m<ipython-input-24-d3905b8c9877>\u001b[0m in \u001b[0;36m<module>\u001b[0;34m()\u001b[0m\n\u001b[1;32m      5\u001b[0m     \u001b[0;32mfor\u001b[0m \u001b[0mi\u001b[0m \u001b[0;32min\u001b[0m \u001b[0mrange\u001b[0m\u001b[0;34m(\u001b[0m\u001b[0;36m0\u001b[0m\u001b[0;34m,\u001b[0m\u001b[0;36m5\u001b[0m\u001b[0;34m)\u001b[0m\u001b[0;34m:\u001b[0m\u001b[0;34m\u001b[0m\u001b[0;34m\u001b[0m\u001b[0m\n\u001b[1;32m      6\u001b[0m         \u001b[0mm\u001b[0m \u001b[0;34m=\u001b[0m \u001b[0minput\u001b[0m\u001b[0;34m(\u001b[0m\u001b[0;34m\"User : \"\u001b[0m\u001b[0;34m)\u001b[0m\u001b[0;34m\u001b[0m\u001b[0;34m\u001b[0m\u001b[0m\n\u001b[0;32m----> 7\u001b[0;31m         \u001b[0mres\u001b[0m \u001b[0;34m=\u001b[0m \u001b[0mresponsed\u001b[0m\u001b[0;34m(\u001b[0m\u001b[0mm\u001b[0m\u001b[0;34m)\u001b[0m\u001b[0;34m\u001b[0m\u001b[0;34m\u001b[0m\u001b[0m\n\u001b[0m\u001b[1;32m      8\u001b[0m         \u001b[0mprint\u001b[0m\u001b[0;34m(\u001b[0m\u001b[0;34m\"Chatbot : \"\u001b[0m\u001b[0;34m+\u001b[0m\u001b[0mres\u001b[0m\u001b[0;34m)\u001b[0m\u001b[0;34m\u001b[0m\u001b[0;34m\u001b[0m\u001b[0m\n\u001b[1;32m      9\u001b[0m     \u001b[0mans\u001b[0m \u001b[0;34m=\u001b[0m \u001b[0msong_emotion\u001b[0m\u001b[0;34m(\u001b[0m\u001b[0;34m)\u001b[0m\u001b[0;34m\u001b[0m\u001b[0;34m\u001b[0m\u001b[0m\n",
            "\u001b[0;32m<ipython-input-22-b4b7625f5333>\u001b[0m in \u001b[0;36mresponsed\u001b[0;34m(msg1)\u001b[0m\n\u001b[1;32m      3\u001b[0m     \u001b[0;31m#print(\"response\")\u001b[0m\u001b[0;34m\u001b[0m\u001b[0;34m\u001b[0m\u001b[0;34m\u001b[0m\u001b[0m\n\u001b[1;32m      4\u001b[0m     \u001b[0mmsg\u001b[0m\u001b[0;34m.\u001b[0m\u001b[0mappend\u001b[0m\u001b[0;34m(\u001b[0m\u001b[0mmsg1\u001b[0m\u001b[0;34m)\u001b[0m\u001b[0;34m\u001b[0m\u001b[0;34m\u001b[0m\u001b[0m\n\u001b[0;32m----> 5\u001b[0;31m     \u001b[0mints\u001b[0m \u001b[0;34m=\u001b[0m \u001b[0mpredict_class\u001b[0m\u001b[0;34m(\u001b[0m\u001b[0mmsg1\u001b[0m\u001b[0;34m)\u001b[0m\u001b[0;34m\u001b[0m\u001b[0;34m\u001b[0m\u001b[0m\n\u001b[0m\u001b[1;32m      6\u001b[0m     \u001b[0mres\u001b[0m \u001b[0;34m=\u001b[0m \u001b[0mgetResponse\u001b[0m\u001b[0;34m(\u001b[0m\u001b[0mints\u001b[0m\u001b[0;34m,\u001b[0m \u001b[0mintents\u001b[0m\u001b[0;34m)\u001b[0m\u001b[0;34m\u001b[0m\u001b[0;34m\u001b[0m\u001b[0m\n\u001b[1;32m      7\u001b[0m     \u001b[0;32mreturn\u001b[0m \u001b[0mres\u001b[0m\u001b[0;34m\u001b[0m\u001b[0;34m\u001b[0m\u001b[0m\n",
            "\u001b[0;32m<ipython-input-13-d8c416545e60>\u001b[0m in \u001b[0;36mpredict_class\u001b[0;34m(sentence)\u001b[0m\n\u001b[1;32m     36\u001b[0m     \u001b[0;31m# filter below  threshold predictions\u001b[0m\u001b[0;34m\u001b[0m\u001b[0;34m\u001b[0m\u001b[0;34m\u001b[0m\u001b[0m\n\u001b[1;32m     37\u001b[0m     \u001b[0mp\u001b[0m \u001b[0;34m=\u001b[0m \u001b[0mbag_of_words\u001b[0m\u001b[0;34m(\u001b[0m\u001b[0msentence\u001b[0m\u001b[0;34m,\u001b[0m \u001b[0mwords\u001b[0m\u001b[0;34m,\u001b[0m\u001b[0mshow_details\u001b[0m\u001b[0;34m=\u001b[0m\u001b[0;32mFalse\u001b[0m\u001b[0;34m)\u001b[0m\u001b[0;34m\u001b[0m\u001b[0;34m\u001b[0m\u001b[0m\n\u001b[0;32m---> 38\u001b[0;31m     \u001b[0mres\u001b[0m \u001b[0;34m=\u001b[0m \u001b[0mmodel\u001b[0m\u001b[0;34m.\u001b[0m\u001b[0mpredict\u001b[0m\u001b[0;34m(\u001b[0m\u001b[0mnp\u001b[0m\u001b[0;34m.\u001b[0m\u001b[0marray\u001b[0m\u001b[0;34m(\u001b[0m\u001b[0;34m[\u001b[0m\u001b[0mp\u001b[0m\u001b[0;34m]\u001b[0m\u001b[0;34m)\u001b[0m\u001b[0;34m)\u001b[0m\u001b[0;34m[\u001b[0m\u001b[0;36m0\u001b[0m\u001b[0;34m]\u001b[0m\u001b[0;34m\u001b[0m\u001b[0;34m\u001b[0m\u001b[0m\n\u001b[0m\u001b[1;32m     39\u001b[0m     \u001b[0mERROR_THRESHOLD\u001b[0m \u001b[0;34m=\u001b[0m \u001b[0;36m0.25\u001b[0m\u001b[0;34m\u001b[0m\u001b[0;34m\u001b[0m\u001b[0m\n\u001b[1;32m     40\u001b[0m     \u001b[0mresults\u001b[0m \u001b[0;34m=\u001b[0m \u001b[0;34m[\u001b[0m\u001b[0;34m[\u001b[0m\u001b[0mi\u001b[0m\u001b[0;34m,\u001b[0m\u001b[0mr\u001b[0m\u001b[0;34m]\u001b[0m \u001b[0;32mfor\u001b[0m \u001b[0mi\u001b[0m\u001b[0;34m,\u001b[0m\u001b[0mr\u001b[0m \u001b[0;32min\u001b[0m \u001b[0menumerate\u001b[0m\u001b[0;34m(\u001b[0m\u001b[0mres\u001b[0m\u001b[0;34m)\u001b[0m \u001b[0;32mif\u001b[0m \u001b[0mr\u001b[0m\u001b[0;34m>\u001b[0m\u001b[0mERROR_THRESHOLD\u001b[0m\u001b[0;34m]\u001b[0m\u001b[0;34m\u001b[0m\u001b[0;34m\u001b[0m\u001b[0m\n",
            "\u001b[0;32m/usr/local/lib/python3.7/dist-packages/keras/utils/traceback_utils.py\u001b[0m in \u001b[0;36merror_handler\u001b[0;34m(*args, **kwargs)\u001b[0m\n\u001b[1;32m     65\u001b[0m     \u001b[0;32mexcept\u001b[0m \u001b[0mException\u001b[0m \u001b[0;32mas\u001b[0m \u001b[0me\u001b[0m\u001b[0;34m:\u001b[0m  \u001b[0;31m# pylint: disable=broad-except\u001b[0m\u001b[0;34m\u001b[0m\u001b[0;34m\u001b[0m\u001b[0m\n\u001b[1;32m     66\u001b[0m       \u001b[0mfiltered_tb\u001b[0m \u001b[0;34m=\u001b[0m \u001b[0m_process_traceback_frames\u001b[0m\u001b[0;34m(\u001b[0m\u001b[0me\u001b[0m\u001b[0;34m.\u001b[0m\u001b[0m__traceback__\u001b[0m\u001b[0;34m)\u001b[0m\u001b[0;34m\u001b[0m\u001b[0;34m\u001b[0m\u001b[0m\n\u001b[0;32m---> 67\u001b[0;31m       \u001b[0;32mraise\u001b[0m \u001b[0me\u001b[0m\u001b[0;34m.\u001b[0m\u001b[0mwith_traceback\u001b[0m\u001b[0;34m(\u001b[0m\u001b[0mfiltered_tb\u001b[0m\u001b[0;34m)\u001b[0m \u001b[0;32mfrom\u001b[0m \u001b[0;32mNone\u001b[0m\u001b[0;34m\u001b[0m\u001b[0;34m\u001b[0m\u001b[0m\n\u001b[0m\u001b[1;32m     68\u001b[0m     \u001b[0;32mfinally\u001b[0m\u001b[0;34m:\u001b[0m\u001b[0;34m\u001b[0m\u001b[0;34m\u001b[0m\u001b[0m\n\u001b[1;32m     69\u001b[0m       \u001b[0;32mdel\u001b[0m \u001b[0mfiltered_tb\u001b[0m\u001b[0;34m\u001b[0m\u001b[0;34m\u001b[0m\u001b[0m\n",
            "\u001b[0;32m/usr/local/lib/python3.7/dist-packages/tensorflow/python/framework/constant_op.py\u001b[0m in \u001b[0;36mconvert_to_eager_tensor\u001b[0;34m(value, ctx, dtype)\u001b[0m\n\u001b[1;32m    100\u001b[0m       \u001b[0mdtype\u001b[0m \u001b[0;34m=\u001b[0m \u001b[0mdtypes\u001b[0m\u001b[0;34m.\u001b[0m\u001b[0mas_dtype\u001b[0m\u001b[0;34m(\u001b[0m\u001b[0mdtype\u001b[0m\u001b[0;34m)\u001b[0m\u001b[0;34m.\u001b[0m\u001b[0mas_datatype_enum\u001b[0m\u001b[0;34m\u001b[0m\u001b[0;34m\u001b[0m\u001b[0m\n\u001b[1;32m    101\u001b[0m   \u001b[0mctx\u001b[0m\u001b[0;34m.\u001b[0m\u001b[0mensure_initialized\u001b[0m\u001b[0;34m(\u001b[0m\u001b[0;34m)\u001b[0m\u001b[0;34m\u001b[0m\u001b[0;34m\u001b[0m\u001b[0m\n\u001b[0;32m--> 102\u001b[0;31m   \u001b[0;32mreturn\u001b[0m \u001b[0mops\u001b[0m\u001b[0;34m.\u001b[0m\u001b[0mEagerTensor\u001b[0m\u001b[0;34m(\u001b[0m\u001b[0mvalue\u001b[0m\u001b[0;34m,\u001b[0m \u001b[0mctx\u001b[0m\u001b[0;34m.\u001b[0m\u001b[0mdevice_name\u001b[0m\u001b[0;34m,\u001b[0m \u001b[0mdtype\u001b[0m\u001b[0;34m)\u001b[0m\u001b[0;34m\u001b[0m\u001b[0;34m\u001b[0m\u001b[0m\n\u001b[0m\u001b[1;32m    103\u001b[0m \u001b[0;34m\u001b[0m\u001b[0m\n\u001b[1;32m    104\u001b[0m \u001b[0;34m\u001b[0m\u001b[0m\n",
            "\u001b[0;31mValueError\u001b[0m: Failed to convert a NumPy array to a Tensor (Unsupported object type NoneType)."
          ]
        }
      ],
      "source": [
        "UserRp=\"yes\"\n",
        "while UserRp.lower()==\"yes\":\n",
        "    print(\"Chatbot : Hey there, Wassup ?\")\n",
        "    # responded function takes text of user and returns chatbot output\n",
        "    for i in range(0,5):\n",
        "        m = input(\"User : \")\n",
        "        res = responsed(m)\n",
        "        print(\"Chatbot : \"+res)\n",
        "    ans = song_emotion()\n",
        "    print(\"Emotion : \"+ans['emotion'])\n",
        "    UserRp = input(\"Chat Again Yes / No : \")"
      ]
    },
    {
      "cell_type": "code",
      "execution_count": null,
      "metadata": {
        "id": "zt38OzQXt_Lz"
      },
      "outputs": [],
      "source": [
        "# print(msg)\n",
        "# # print(text)\n",
        "# print(len(msg))"
      ]
    },
    {
      "cell_type": "code",
      "execution_count": null,
      "metadata": {
        "id": "q18XH1RWpAXV"
      },
      "outputs": [],
      "source": [
        "# SONG RECOMMENDATION"
      ]
    },
    {
      "cell_type": "code",
      "execution_count": null,
      "metadata": {
        "colab": {
          "base_uri": "https://localhost:8080/"
        },
        "id": "8N4bfBmXnBkm",
        "outputId": "2371b8a4-c57a-4800-8392-21eed490b235"
      },
      "outputs": [
        {
          "name": "stdout",
          "output_type": "stream",
          "text": [
            "{'tracks': {'track': [{'name': 'Pumped Up Kicks', 'duration': '236', 'mbid': '816b3284-5f24-4f3a-9554-750e0bf5d060', 'url': 'https://www.last.fm/music/Foster+the+People/_/Pumped+Up+Kicks', 'streamable': {'#text': '0', 'fulltrack': '0'}, 'artist': {'name': 'Foster the People', 'mbid': 'e0e1a584-dd0a-4bd1-88d1-c4c62895039d', 'url': 'https://www.last.fm/music/Foster+the+People'}, 'image': [{'#text': 'https://lastfm.freetls.fastly.net/i/u/34s/2a96cbd8b46e442fc41c2b86b821562f.png', 'size': 'small'}, {'#text': 'https://lastfm.freetls.fastly.net/i/u/64s/2a96cbd8b46e442fc41c2b86b821562f.png', 'size': 'medium'}, {'#text': 'https://lastfm.freetls.fastly.net/i/u/174s/2a96cbd8b46e442fc41c2b86b821562f.png', 'size': 'large'}, {'#text': 'https://lastfm.freetls.fastly.net/i/u/300x300/2a96cbd8b46e442fc41c2b86b821562f.png', 'size': 'extralarge'}], '@attr': {'rank': '1'}}, {'name': \"I'm Yours\", 'duration': '242', 'mbid': 'a5a2330e-2fff-4601-a715-6e68a8e98fbf', 'url': 'https://www.last.fm/music/Jason+Mraz/_/I%27m+Yours', 'streamable': {'#text': '0', 'fulltrack': '0'}, 'artist': {'name': 'Jason Mraz', 'mbid': '82eb8936-7bf6-4577-8320-a2639465206d', 'url': 'https://www.last.fm/music/Jason+Mraz'}, 'image': [{'#text': 'https://lastfm.freetls.fastly.net/i/u/34s/2a96cbd8b46e442fc41c2b86b821562f.png', 'size': 'small'}, {'#text': 'https://lastfm.freetls.fastly.net/i/u/64s/2a96cbd8b46e442fc41c2b86b821562f.png', 'size': 'medium'}, {'#text': 'https://lastfm.freetls.fastly.net/i/u/174s/2a96cbd8b46e442fc41c2b86b821562f.png', 'size': 'large'}, {'#text': 'https://lastfm.freetls.fastly.net/i/u/300x300/2a96cbd8b46e442fc41c2b86b821562f.png', 'size': 'extralarge'}], '@attr': {'rank': '2'}}, {'name': 'Dog Days Are Over', 'duration': '270', 'mbid': '772ea437-45b3-4868-b3c0-b80526ef0fa3', 'url': 'https://www.last.fm/music/Florence+%252B+the+Machine/_/Dog+Days+Are+Over', 'streamable': {'#text': '0', 'fulltrack': '0'}, 'artist': {'name': 'Florence + the Machine', 'mbid': '5fee3020-513b-48c2-b1f7-4681b01db0c6', 'url': 'https://www.last.fm/music/Florence+%252B+the+Machine'}, 'image': [{'#text': 'https://lastfm.freetls.fastly.net/i/u/34s/2a96cbd8b46e442fc41c2b86b821562f.png', 'size': 'small'}, {'#text': 'https://lastfm.freetls.fastly.net/i/u/64s/2a96cbd8b46e442fc41c2b86b821562f.png', 'size': 'medium'}, {'#text': 'https://lastfm.freetls.fastly.net/i/u/174s/2a96cbd8b46e442fc41c2b86b821562f.png', 'size': 'large'}, {'#text': 'https://lastfm.freetls.fastly.net/i/u/300x300/2a96cbd8b46e442fc41c2b86b821562f.png', 'size': 'extralarge'}], '@attr': {'rank': '3'}}, {'name': 'A-Punk', 'duration': '136', 'mbid': '047db898-cedf-48a0-afc2-5b686c9b8840', 'url': 'https://www.last.fm/music/Vampire+Weekend/_/A-Punk', 'streamable': {'#text': '0', 'fulltrack': '0'}, 'artist': {'name': 'Vampire Weekend', 'mbid': 'af37c51c-0790-4a29-b995-456f98a6b8c9', 'url': 'https://www.last.fm/music/Vampire+Weekend'}, 'image': [{'#text': 'https://lastfm.freetls.fastly.net/i/u/34s/2a96cbd8b46e442fc41c2b86b821562f.png', 'size': 'small'}, {'#text': 'https://lastfm.freetls.fastly.net/i/u/64s/2a96cbd8b46e442fc41c2b86b821562f.png', 'size': 'medium'}, {'#text': 'https://lastfm.freetls.fastly.net/i/u/174s/2a96cbd8b46e442fc41c2b86b821562f.png', 'size': 'large'}, {'#text': 'https://lastfm.freetls.fastly.net/i/u/300x300/2a96cbd8b46e442fc41c2b86b821562f.png', 'size': 'extralarge'}], '@attr': {'rank': '4'}}, {'name': \"Friday I'm in Love\", 'duration': '214', 'mbid': '8d9104c6-7d8e-460b-8c3d-2d797f79953d', 'url': 'https://www.last.fm/music/The+Cure/_/Friday+I%27m+in+Love', 'streamable': {'#text': '0', 'fulltrack': '0'}, 'artist': {'name': 'The Cure', 'mbid': '69ee3720-a7cb-4402-b48d-a02c366f2bcf', 'url': 'https://www.last.fm/music/The+Cure'}, 'image': [{'#text': 'https://lastfm.freetls.fastly.net/i/u/34s/2a96cbd8b46e442fc41c2b86b821562f.png', 'size': 'small'}, {'#text': 'https://lastfm.freetls.fastly.net/i/u/64s/2a96cbd8b46e442fc41c2b86b821562f.png', 'size': 'medium'}, {'#text': 'https://lastfm.freetls.fastly.net/i/u/174s/2a96cbd8b46e442fc41c2b86b821562f.png', 'size': 'large'}, {'#text': 'https://lastfm.freetls.fastly.net/i/u/300x300/2a96cbd8b46e442fc41c2b86b821562f.png', 'size': 'extralarge'}], '@attr': {'rank': '5'}}], '@attr': {'tag': 'happy', 'page': '1', 'perPage': '5', 'totalPages': '4509', 'total': '22543'}}}\n"
          ]
        }
      ],
      "source": [
        "import requests\n",
        "\n",
        "url=f\"http://ws.audioscrobbler.com/2.0/?method=tag.gettoptracks&tag=happy&api_key={api_key}&format=json&limit=5\"\n",
        "response = requests.get(url)\n",
        "payload = response.json()\n",
        "# for i in range(4):\n",
        "r=payload['tracks']['track'][0]\n",
        "# print(r['url'])\n",
        "print(payload)"
      ]
    },
    {
      "cell_type": "code",
      "execution_count": null,
      "metadata": {
        "id": "Zio9sPymm7kF"
      },
      "outputs": [],
      "source": [
        "# print(dic1)"
      ]
    },
    {
      "cell_type": "code",
      "execution_count": null,
      "metadata": {
        "colab": {
          "base_uri": "https://localhost:8080/"
        },
        "id": "O4yla2WTHiGz",
        "outputId": "d70a8db9-2090-4a8b-d8ea-1884d703f3e9"
      },
      "outputs": [
        {
          "name": "stdout",
          "output_type": "stream",
          "text": [
            "Happy\n",
            "Emotion : Happy\n",
            "Song Recommendations : \n",
            "Song_name : Pumped Up Kicks\n",
            "Song_URL : https://www.last.fm/music/Foster+the+People/_/Pumped+Up+Kicks\n",
            "Song_name : I'm Yours\n",
            "Song_URL : https://www.last.fm/music/Jason+Mraz/_/I%27m+Yours\n",
            "Song_name : Dog Days Are Over\n",
            "Song_URL : https://www.last.fm/music/Florence+%252B+the+Machine/_/Dog+Days+Are+Over\n",
            "Song_name : A-Punk\n",
            "Song_URL : https://www.last.fm/music/Vampire+Weekend/_/A-Punk\n",
            "Song_name : Friday I'm in Love\n",
            "Song_URL : https://www.last.fm/music/The+Cure/_/Friday+I%27m+in+Love\n",
            "Song_name : Float On\n",
            "Song_URL : https://www.last.fm/music/Modest+Mouse/_/Float+On\n",
            "Song_name : Island in the Sun\n",
            "Song_URL : https://www.last.fm/music/Weezer/_/Island+in+the+Sun\n",
            "Song_name : Hey Ya!\n",
            "Song_URL : https://www.last.fm/music/OutKast/_/Hey+Ya%21\n",
            "Song_name : Don't Stop Me Now\n",
            "Song_URL : https://www.last.fm/music/Queen/_/Don%27t+Stop+Me+Now\n",
            "Song_name : Young Folks\n",
            "Song_URL : https://www.last.fm/music/Peter+Bjorn+and+John/_/Young+Folks\n"
          ]
        }
      ],
      "source": [
        "# song_emotion function would return dictionary consisting of emotion and recommended songs\n",
        "ans = song_emotion()\n",
        "print(\"Emotion : \"+ans['emotion'])\n",
        "ans.pop('emotion')\n",
        "lst = list(ans.keys())\n",
        "print(\"Song Recommendations : \")\n",
        "for i in range(10):\n",
        "    print(\"Song_name : \"+lst[i])\n",
        "    print(\"Song_URL : \"+ans[lst[i]])\n"
      ]
    }
  ],
  "metadata": {
    "colab": {
      "collapsed_sections": [],
      "name": "orginal of chatbot song recommender system.ipynb",
      "provenance": []
    },
    "kernelspec": {
      "display_name": "Python 3",
      "name": "python3"
    },
    "language_info": {
      "name": "python"
    }
  },
  "nbformat": 4,
  "nbformat_minor": 0
}